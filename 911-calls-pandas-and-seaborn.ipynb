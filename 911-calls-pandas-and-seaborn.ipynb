{
 "cells": [
  {
   "cell_type": "markdown",
   "id": "d7731033",
   "metadata": {
    "_cell_guid": "b1076dfc-b9ad-4769-8c92-a6c4dae69d19",
    "_uuid": "8f2839f25d086af736a60e9eeb907d3b93b6e0e5",
    "papermill": {
     "duration": 0.012094,
     "end_time": "2022-06-27T13:17:19.362545",
     "exception": false,
     "start_time": "2022-06-27T13:17:19.350451",
     "status": "completed"
    },
    "tags": []
   },
   "source": [
    "**Import Numpy, Pandas and Seaborn**"
   ]
  },
  {
   "cell_type": "code",
   "execution_count": 1,
   "id": "f167d9a3",
   "metadata": {
    "execution": {
     "iopub.execute_input": "2022-06-27T13:17:19.385361Z",
     "iopub.status.busy": "2022-06-27T13:17:19.384913Z",
     "iopub.status.idle": "2022-06-27T13:17:19.395075Z",
     "shell.execute_reply": "2022-06-27T13:17:19.394208Z"
    },
    "papermill": {
     "duration": 0.024571,
     "end_time": "2022-06-27T13:17:19.397769",
     "exception": false,
     "start_time": "2022-06-27T13:17:19.373198",
     "status": "completed"
    },
    "tags": []
   },
   "outputs": [],
   "source": [
    "import numpy as np\n",
    "import pandas as pd"
   ]
  },
  {
   "cell_type": "code",
   "execution_count": 2,
   "id": "2f2c3995",
   "metadata": {
    "execution": {
     "iopub.execute_input": "2022-06-27T13:17:19.423180Z",
     "iopub.status.busy": "2022-06-27T13:17:19.422374Z",
     "iopub.status.idle": "2022-06-27T13:17:20.426079Z",
     "shell.execute_reply": "2022-06-27T13:17:20.425100Z"
    },
    "papermill": {
     "duration": 1.01944,
     "end_time": "2022-06-27T13:17:20.428604",
     "exception": false,
     "start_time": "2022-06-27T13:17:19.409164",
     "status": "completed"
    },
    "tags": []
   },
   "outputs": [],
   "source": [
    "import matplotlib.pyplot as plt\n",
    "import seaborn as sns\n",
    "%matplotlib inline"
   ]
  },
  {
   "cell_type": "markdown",
   "id": "f531d0e3",
   "metadata": {
    "papermill": {
     "duration": 0.013305,
     "end_time": "2022-06-27T13:17:20.453249",
     "exception": false,
     "start_time": "2022-06-27T13:17:20.439944",
     "status": "completed"
    },
    "tags": []
   },
   "source": [
    "**Read in the csv file as a dataframe called df**"
   ]
  },
  {
   "cell_type": "code",
   "execution_count": 3,
   "id": "86b5b5ba",
   "metadata": {
    "execution": {
     "iopub.execute_input": "2022-06-27T13:17:20.481198Z",
     "iopub.status.busy": "2022-06-27T13:17:20.480680Z",
     "iopub.status.idle": "2022-06-27T13:17:23.434672Z",
     "shell.execute_reply": "2022-06-27T13:17:23.433523Z"
    },
    "papermill": {
     "duration": 2.969271,
     "end_time": "2022-06-27T13:17:23.437068",
     "exception": false,
     "start_time": "2022-06-27T13:17:20.467797",
     "status": "completed"
    },
    "tags": []
   },
   "outputs": [],
   "source": [
    "df = pd.read_csv(\"../input/montcoalert/911.csv\")"
   ]
  },
  {
   "cell_type": "markdown",
   "id": "4228487d",
   "metadata": {
    "papermill": {
     "duration": 0.010374,
     "end_time": "2022-06-27T13:17:23.458311",
     "exception": false,
     "start_time": "2022-06-27T13:17:23.447937",
     "status": "completed"
    },
    "tags": []
   },
   "source": [
    "**Check the info() of the df**"
   ]
  },
  {
   "cell_type": "code",
   "execution_count": 4,
   "id": "f3e3ece2",
   "metadata": {
    "execution": {
     "iopub.execute_input": "2022-06-27T13:17:23.481117Z",
     "iopub.status.busy": "2022-06-27T13:17:23.480737Z",
     "iopub.status.idle": "2022-06-27T13:17:23.663019Z",
     "shell.execute_reply": "2022-06-27T13:17:23.661648Z"
    },
    "papermill": {
     "duration": 0.197056,
     "end_time": "2022-06-27T13:17:23.666052",
     "exception": false,
     "start_time": "2022-06-27T13:17:23.468996",
     "status": "completed"
    },
    "tags": []
   },
   "outputs": [
    {
     "name": "stdout",
     "output_type": "stream",
     "text": [
      "<class 'pandas.core.frame.DataFrame'>\n",
      "RangeIndex: 663522 entries, 0 to 663521\n",
      "Data columns (total 9 columns):\n",
      " #   Column     Non-Null Count   Dtype  \n",
      "---  ------     --------------   -----  \n",
      " 0   lat        663522 non-null  float64\n",
      " 1   lng        663522 non-null  float64\n",
      " 2   desc       663522 non-null  object \n",
      " 3   zip        583323 non-null  float64\n",
      " 4   title      663522 non-null  object \n",
      " 5   timeStamp  663522 non-null  object \n",
      " 6   twp        663229 non-null  object \n",
      " 7   addr       663522 non-null  object \n",
      " 8   e          663522 non-null  int64  \n",
      "dtypes: float64(3), int64(1), object(5)\n",
      "memory usage: 45.6+ MB\n"
     ]
    }
   ],
   "source": [
    "df.info()"
   ]
  },
  {
   "cell_type": "markdown",
   "id": "b47c69c0",
   "metadata": {
    "papermill": {
     "duration": 0.010366,
     "end_time": "2022-06-27T13:17:23.687883",
     "exception": false,
     "start_time": "2022-06-27T13:17:23.677517",
     "status": "completed"
    },
    "tags": []
   },
   "source": [
    "**Check the head of df**"
   ]
  },
  {
   "cell_type": "code",
   "execution_count": 5,
   "id": "060f7246",
   "metadata": {
    "execution": {
     "iopub.execute_input": "2022-06-27T13:17:23.710800Z",
     "iopub.status.busy": "2022-06-27T13:17:23.710429Z",
     "iopub.status.idle": "2022-06-27T13:17:23.729598Z",
     "shell.execute_reply": "2022-06-27T13:17:23.728529Z"
    },
    "papermill": {
     "duration": 0.033132,
     "end_time": "2022-06-27T13:17:23.731760",
     "exception": false,
     "start_time": "2022-06-27T13:17:23.698628",
     "status": "completed"
    },
    "tags": []
   },
   "outputs": [
    {
     "data": {
      "text/html": [
       "<div>\n",
       "<style scoped>\n",
       "    .dataframe tbody tr th:only-of-type {\n",
       "        vertical-align: middle;\n",
       "    }\n",
       "\n",
       "    .dataframe tbody tr th {\n",
       "        vertical-align: top;\n",
       "    }\n",
       "\n",
       "    .dataframe thead th {\n",
       "        text-align: right;\n",
       "    }\n",
       "</style>\n",
       "<table border=\"1\" class=\"dataframe\">\n",
       "  <thead>\n",
       "    <tr style=\"text-align: right;\">\n",
       "      <th></th>\n",
       "      <th>lat</th>\n",
       "      <th>lng</th>\n",
       "      <th>desc</th>\n",
       "      <th>zip</th>\n",
       "      <th>title</th>\n",
       "      <th>timeStamp</th>\n",
       "      <th>twp</th>\n",
       "      <th>addr</th>\n",
       "      <th>e</th>\n",
       "    </tr>\n",
       "  </thead>\n",
       "  <tbody>\n",
       "    <tr>\n",
       "      <th>0</th>\n",
       "      <td>40.297876</td>\n",
       "      <td>-75.581294</td>\n",
       "      <td>REINDEER CT &amp; DEAD END;  NEW HANOVER; Station ...</td>\n",
       "      <td>19525.0</td>\n",
       "      <td>EMS: BACK PAINS/INJURY</td>\n",
       "      <td>2015-12-10 17:10:52</td>\n",
       "      <td>NEW HANOVER</td>\n",
       "      <td>REINDEER CT &amp; DEAD END</td>\n",
       "      <td>1</td>\n",
       "    </tr>\n",
       "    <tr>\n",
       "      <th>1</th>\n",
       "      <td>40.258061</td>\n",
       "      <td>-75.264680</td>\n",
       "      <td>BRIAR PATH &amp; WHITEMARSH LN;  HATFIELD TOWNSHIP...</td>\n",
       "      <td>19446.0</td>\n",
       "      <td>EMS: DIABETIC EMERGENCY</td>\n",
       "      <td>2015-12-10 17:29:21</td>\n",
       "      <td>HATFIELD TOWNSHIP</td>\n",
       "      <td>BRIAR PATH &amp; WHITEMARSH LN</td>\n",
       "      <td>1</td>\n",
       "    </tr>\n",
       "    <tr>\n",
       "      <th>2</th>\n",
       "      <td>40.121182</td>\n",
       "      <td>-75.351975</td>\n",
       "      <td>HAWS AVE; NORRISTOWN; 2015-12-10 @ 14:39:21-St...</td>\n",
       "      <td>19401.0</td>\n",
       "      <td>Fire: GAS-ODOR/LEAK</td>\n",
       "      <td>2015-12-10 14:39:21</td>\n",
       "      <td>NORRISTOWN</td>\n",
       "      <td>HAWS AVE</td>\n",
       "      <td>1</td>\n",
       "    </tr>\n",
       "    <tr>\n",
       "      <th>3</th>\n",
       "      <td>40.116153</td>\n",
       "      <td>-75.343513</td>\n",
       "      <td>AIRY ST &amp; SWEDE ST;  NORRISTOWN; Station 308A;...</td>\n",
       "      <td>19401.0</td>\n",
       "      <td>EMS: CARDIAC EMERGENCY</td>\n",
       "      <td>2015-12-10 16:47:36</td>\n",
       "      <td>NORRISTOWN</td>\n",
       "      <td>AIRY ST &amp; SWEDE ST</td>\n",
       "      <td>1</td>\n",
       "    </tr>\n",
       "    <tr>\n",
       "      <th>4</th>\n",
       "      <td>40.251492</td>\n",
       "      <td>-75.603350</td>\n",
       "      <td>CHERRYWOOD CT &amp; DEAD END;  LOWER POTTSGROVE; S...</td>\n",
       "      <td>NaN</td>\n",
       "      <td>EMS: DIZZINESS</td>\n",
       "      <td>2015-12-10 16:56:52</td>\n",
       "      <td>LOWER POTTSGROVE</td>\n",
       "      <td>CHERRYWOOD CT &amp; DEAD END</td>\n",
       "      <td>1</td>\n",
       "    </tr>\n",
       "  </tbody>\n",
       "</table>\n",
       "</div>"
      ],
      "text/plain": [
       "         lat        lng                                               desc  \\\n",
       "0  40.297876 -75.581294  REINDEER CT & DEAD END;  NEW HANOVER; Station ...   \n",
       "1  40.258061 -75.264680  BRIAR PATH & WHITEMARSH LN;  HATFIELD TOWNSHIP...   \n",
       "2  40.121182 -75.351975  HAWS AVE; NORRISTOWN; 2015-12-10 @ 14:39:21-St...   \n",
       "3  40.116153 -75.343513  AIRY ST & SWEDE ST;  NORRISTOWN; Station 308A;...   \n",
       "4  40.251492 -75.603350  CHERRYWOOD CT & DEAD END;  LOWER POTTSGROVE; S...   \n",
       "\n",
       "       zip                    title            timeStamp                twp  \\\n",
       "0  19525.0   EMS: BACK PAINS/INJURY  2015-12-10 17:10:52        NEW HANOVER   \n",
       "1  19446.0  EMS: DIABETIC EMERGENCY  2015-12-10 17:29:21  HATFIELD TOWNSHIP   \n",
       "2  19401.0      Fire: GAS-ODOR/LEAK  2015-12-10 14:39:21         NORRISTOWN   \n",
       "3  19401.0   EMS: CARDIAC EMERGENCY  2015-12-10 16:47:36         NORRISTOWN   \n",
       "4      NaN           EMS: DIZZINESS  2015-12-10 16:56:52   LOWER POTTSGROVE   \n",
       "\n",
       "                         addr  e  \n",
       "0      REINDEER CT & DEAD END  1  \n",
       "1  BRIAR PATH & WHITEMARSH LN  1  \n",
       "2                    HAWS AVE  1  \n",
       "3          AIRY ST & SWEDE ST  1  \n",
       "4    CHERRYWOOD CT & DEAD END  1  "
      ]
     },
     "execution_count": 5,
     "metadata": {},
     "output_type": "execute_result"
    }
   ],
   "source": [
    "df.head()"
   ]
  },
  {
   "cell_type": "markdown",
   "id": "0dcc3ec9",
   "metadata": {
    "papermill": {
     "duration": 0.01049,
     "end_time": "2022-06-27T13:17:23.753261",
     "exception": false,
     "start_time": "2022-06-27T13:17:23.742771",
     "status": "completed"
    },
    "tags": []
   },
   "source": [
    "**What are the top 5 zipcodes for 911 calls?**"
   ]
  },
  {
   "cell_type": "code",
   "execution_count": 6,
   "id": "626d261d",
   "metadata": {
    "execution": {
     "iopub.execute_input": "2022-06-27T13:17:23.776848Z",
     "iopub.status.busy": "2022-06-27T13:17:23.776012Z",
     "iopub.status.idle": "2022-06-27T13:17:23.795094Z",
     "shell.execute_reply": "2022-06-27T13:17:23.794047Z"
    },
    "papermill": {
     "duration": 0.033025,
     "end_time": "2022-06-27T13:17:23.796942",
     "exception": false,
     "start_time": "2022-06-27T13:17:23.763917",
     "status": "completed"
    },
    "tags": []
   },
   "outputs": [
    {
     "data": {
      "text/plain": [
       "19401.0    45606\n",
       "19464.0    43910\n",
       "19403.0    34888\n",
       "19446.0    32270\n",
       "19406.0    22464\n",
       "Name: zip, dtype: int64"
      ]
     },
     "execution_count": 6,
     "metadata": {},
     "output_type": "execute_result"
    }
   ],
   "source": [
    "df[\"zip\"].value_counts().head(5)"
   ]
  },
  {
   "cell_type": "markdown",
   "id": "3b12f294",
   "metadata": {
    "papermill": {
     "duration": 0.01041,
     "end_time": "2022-06-27T13:17:23.818157",
     "exception": false,
     "start_time": "2022-06-27T13:17:23.807747",
     "status": "completed"
    },
    "tags": []
   },
   "source": [
    "**What are the top 5 townships (twp) for 911 calls?**"
   ]
  },
  {
   "cell_type": "code",
   "execution_count": 7,
   "id": "157523d8",
   "metadata": {
    "execution": {
     "iopub.execute_input": "2022-06-27T13:17:23.841540Z",
     "iopub.status.busy": "2022-06-27T13:17:23.841205Z",
     "iopub.status.idle": "2022-06-27T13:17:23.890626Z",
     "shell.execute_reply": "2022-06-27T13:17:23.889587Z"
    },
    "papermill": {
     "duration": 0.063512,
     "end_time": "2022-06-27T13:17:23.892884",
     "exception": false,
     "start_time": "2022-06-27T13:17:23.829372",
     "status": "completed"
    },
    "tags": []
   },
   "outputs": [
    {
     "data": {
      "text/plain": [
       "LOWER MERION    55490\n",
       "ABINGTON        39947\n",
       "NORRISTOWN      37633\n",
       "UPPER MERION    36010\n",
       "CHELTENHAM      30574\n",
       "Name: twp, dtype: int64"
      ]
     },
     "execution_count": 7,
     "metadata": {},
     "output_type": "execute_result"
    }
   ],
   "source": [
    "df[\"twp\"].value_counts().head(5)"
   ]
  },
  {
   "cell_type": "markdown",
   "id": "6f015dbb",
   "metadata": {
    "papermill": {
     "duration": 0.010396,
     "end_time": "2022-06-27T13:17:23.914446",
     "exception": false,
     "start_time": "2022-06-27T13:17:23.904050",
     "status": "completed"
    },
    "tags": []
   },
   "source": [
    "**How many unique title codes are there?**"
   ]
  },
  {
   "cell_type": "code",
   "execution_count": 8,
   "id": "bfc1038b",
   "metadata": {
    "execution": {
     "iopub.execute_input": "2022-06-27T13:17:23.937333Z",
     "iopub.status.busy": "2022-06-27T13:17:23.936985Z",
     "iopub.status.idle": "2022-06-27T13:17:23.996614Z",
     "shell.execute_reply": "2022-06-27T13:17:23.995610Z"
    },
    "papermill": {
     "duration": 0.07383,
     "end_time": "2022-06-27T13:17:23.998862",
     "exception": false,
     "start_time": "2022-06-27T13:17:23.925032",
     "status": "completed"
    },
    "tags": []
   },
   "outputs": [
    {
     "data": {
      "text/plain": [
       "148"
      ]
     },
     "execution_count": 8,
     "metadata": {},
     "output_type": "execute_result"
    }
   ],
   "source": [
    "df[\"title\"].nunique()"
   ]
  },
  {
   "cell_type": "markdown",
   "id": "2e7354f9",
   "metadata": {
    "papermill": {
     "duration": 0.010612,
     "end_time": "2022-06-27T13:17:24.020543",
     "exception": false,
     "start_time": "2022-06-27T13:17:24.009931",
     "status": "completed"
    },
    "tags": []
   },
   "source": [
    "**Create a new column called \"Reason\" that contains this value.**"
   ]
  },
  {
   "cell_type": "code",
   "execution_count": 9,
   "id": "d8d00d6e",
   "metadata": {
    "execution": {
     "iopub.execute_input": "2022-06-27T13:17:24.043951Z",
     "iopub.status.busy": "2022-06-27T13:17:24.043604Z",
     "iopub.status.idle": "2022-06-27T13:17:24.287526Z",
     "shell.execute_reply": "2022-06-27T13:17:24.286639Z"
    },
    "papermill": {
     "duration": 0.258626,
     "end_time": "2022-06-27T13:17:24.290068",
     "exception": false,
     "start_time": "2022-06-27T13:17:24.031442",
     "status": "completed"
    },
    "tags": []
   },
   "outputs": [],
   "source": [
    "df[\"reason\"] = df[\"title\"].apply(lambda x: x.split(\":\")[0])"
   ]
  },
  {
   "cell_type": "code",
   "execution_count": 10,
   "id": "9b847464",
   "metadata": {
    "execution": {
     "iopub.execute_input": "2022-06-27T13:17:24.313676Z",
     "iopub.status.busy": "2022-06-27T13:17:24.313347Z",
     "iopub.status.idle": "2022-06-27T13:17:24.321442Z",
     "shell.execute_reply": "2022-06-27T13:17:24.320468Z"
    },
    "papermill": {
     "duration": 0.022335,
     "end_time": "2022-06-27T13:17:24.323439",
     "exception": false,
     "start_time": "2022-06-27T13:17:24.301104",
     "status": "completed"
    },
    "tags": []
   },
   "outputs": [
    {
     "data": {
      "text/plain": [
       "0             EMS\n",
       "1             EMS\n",
       "2            Fire\n",
       "3             EMS\n",
       "4             EMS\n",
       "           ...   \n",
       "663517    Traffic\n",
       "663518        EMS\n",
       "663519        EMS\n",
       "663520       Fire\n",
       "663521    Traffic\n",
       "Name: reason, Length: 663522, dtype: object"
      ]
     },
     "execution_count": 10,
     "metadata": {},
     "output_type": "execute_result"
    }
   ],
   "source": [
    "df[\"reason\"]"
   ]
  },
  {
   "cell_type": "markdown",
   "id": "8f64fc94",
   "metadata": {
    "papermill": {
     "duration": 0.010666,
     "end_time": "2022-06-27T13:17:24.345123",
     "exception": false,
     "start_time": "2022-06-27T13:17:24.334457",
     "status": "completed"
    },
    "tags": []
   },
   "source": [
    "**What is the most common Reason for a 911 call?**"
   ]
  },
  {
   "cell_type": "code",
   "execution_count": 11,
   "id": "941272be",
   "metadata": {
    "execution": {
     "iopub.execute_input": "2022-06-27T13:17:24.369132Z",
     "iopub.status.busy": "2022-06-27T13:17:24.368773Z",
     "iopub.status.idle": "2022-06-27T13:17:24.436805Z",
     "shell.execute_reply": "2022-06-27T13:17:24.435804Z"
    },
    "papermill": {
     "duration": 0.082709,
     "end_time": "2022-06-27T13:17:24.438925",
     "exception": false,
     "start_time": "2022-06-27T13:17:24.356216",
     "status": "completed"
    },
    "tags": []
   },
   "outputs": [
    {
     "data": {
      "text/plain": [
       "EMS        332692\n",
       "Traffic    230208\n",
       "Fire       100622\n",
       "Name: reason, dtype: int64"
      ]
     },
     "execution_count": 11,
     "metadata": {},
     "output_type": "execute_result"
    }
   ],
   "source": [
    "df[\"reason\"].value_counts()"
   ]
  },
  {
   "cell_type": "markdown",
   "id": "c19f380f",
   "metadata": {
    "papermill": {
     "duration": 0.011088,
     "end_time": "2022-06-27T13:17:24.461183",
     "exception": false,
     "start_time": "2022-06-27T13:17:24.450095",
     "status": "completed"
    },
    "tags": []
   },
   "source": [
    "**Countplot of 911 calls by Reason**"
   ]
  },
  {
   "cell_type": "code",
   "execution_count": 12,
   "id": "6a67c0ee",
   "metadata": {
    "execution": {
     "iopub.execute_input": "2022-06-27T13:17:24.485171Z",
     "iopub.status.busy": "2022-06-27T13:17:24.484776Z",
     "iopub.status.idle": "2022-06-27T13:17:25.158790Z",
     "shell.execute_reply": "2022-06-27T13:17:25.158014Z"
    },
    "papermill": {
     "duration": 0.689374,
     "end_time": "2022-06-27T13:17:25.161819",
     "exception": false,
     "start_time": "2022-06-27T13:17:24.472445",
     "status": "completed"
    },
    "tags": []
   },
   "outputs": [
    {
     "data": {
      "text/plain": [
       "<AxesSubplot:xlabel='reason', ylabel='count'>"
      ]
     },
     "execution_count": 12,
     "metadata": {},
     "output_type": "execute_result"
    },
    {
     "data": {
      "image/png": "[encoded data removed]",
      "text/plain": [
       "<Figure size 432x288 with 1 Axes>"
      ]
     },
     "metadata": {
      "needs_background": "light"
     },
     "output_type": "display_data"
    }
   ],
   "source": [
    "sns.countplot(x=df[\"reason\"])"
   ]
  },
  {
   "cell_type": "markdown",
   "id": "a8302882",
   "metadata": {
    "papermill": {
     "duration": 0.011767,
     "end_time": "2022-06-27T13:17:25.191524",
     "exception": false,
     "start_time": "2022-06-27T13:17:25.179757",
     "status": "completed"
    },
    "tags": []
   },
   "source": [
    "**What is the data type of the objects in the timeStamp column?\n",
    "pd.to_datetime to convert the column from strings to DateTime objects.**"
   ]
  },
  {
   "cell_type": "code",
   "execution_count": 13,
   "id": "25b3dfd7",
   "metadata": {
    "execution": {
     "iopub.execute_input": "2022-06-27T13:17:25.216682Z",
     "iopub.status.busy": "2022-06-27T13:17:25.215773Z",
     "iopub.status.idle": "2022-06-27T13:17:25.221962Z",
     "shell.execute_reply": "2022-06-27T13:17:25.221178Z"
    },
    "papermill": {
     "duration": 0.021717,
     "end_time": "2022-06-27T13:17:25.224794",
     "exception": false,
     "start_time": "2022-06-27T13:17:25.203077",
     "status": "completed"
    },
    "tags": []
   },
   "outputs": [
    {
     "data": {
      "text/plain": [
       "str"
      ]
     },
     "execution_count": 13,
     "metadata": {},
     "output_type": "execute_result"
    }
   ],
   "source": [
    "type(df[\"timeStamp\"].iloc[0])"
   ]
  },
  {
   "cell_type": "code",
   "execution_count": 14,
   "id": "0390ba88",
   "metadata": {
    "execution": {
     "iopub.execute_input": "2022-06-27T13:17:25.253536Z",
     "iopub.status.busy": "2022-06-27T13:17:25.252785Z",
     "iopub.status.idle": "2022-06-27T13:17:25.428375Z",
     "shell.execute_reply": "2022-06-27T13:17:25.427262Z"
    },
    "papermill": {
     "duration": 0.191269,
     "end_time": "2022-06-27T13:17:25.431530",
     "exception": false,
     "start_time": "2022-06-27T13:17:25.240261",
     "status": "completed"
    },
    "tags": []
   },
   "outputs": [],
   "source": [
    "df[\"timeStamp\"] = pd.to_datetime(df[\"timeStamp\"])"
   ]
  },
  {
   "cell_type": "markdown",
   "id": "ec464fdb",
   "metadata": {
    "papermill": {
     "duration": 0.011413,
     "end_time": "2022-06-27T13:17:25.459683",
     "exception": false,
     "start_time": "2022-06-27T13:17:25.448270",
     "status": "completed"
    },
    "tags": []
   },
   "source": [
    "**Create 3 new columns called Hour, Month, and Day of Week**"
   ]
  },
  {
   "cell_type": "code",
   "execution_count": 15,
   "id": "6230d0b2",
   "metadata": {
    "execution": {
     "iopub.execute_input": "2022-06-27T13:17:25.484874Z",
     "iopub.status.busy": "2022-06-27T13:17:25.484170Z",
     "iopub.status.idle": "2022-06-27T13:17:33.697487Z",
     "shell.execute_reply": "2022-06-27T13:17:33.696514Z"
    },
    "papermill": {
     "duration": 8.228686,
     "end_time": "2022-06-27T13:17:33.699966",
     "exception": false,
     "start_time": "2022-06-27T13:17:25.471280",
     "status": "completed"
    },
    "tags": []
   },
   "outputs": [],
   "source": [
    "df[\"hour\"] = df[\"timeStamp\"].apply(lambda x: x.hour)\n",
    "df[\"month\"] = df[\"timeStamp\"].apply(lambda x: x.month)\n",
    "df[\"dayofweek\"] = df[\"timeStamp\"].apply(lambda x: x.dayofweek)"
   ]
  },
  {
   "cell_type": "code",
   "execution_count": 16,
   "id": "9bd0e965",
   "metadata": {
    "execution": {
     "iopub.execute_input": "2022-06-27T13:17:33.725244Z",
     "iopub.status.busy": "2022-06-27T13:17:33.724890Z",
     "iopub.status.idle": "2022-06-27T13:17:33.741287Z",
     "shell.execute_reply": "2022-06-27T13:17:33.740147Z"
    },
    "papermill": {
     "duration": 0.031644,
     "end_time": "2022-06-27T13:17:33.743379",
     "exception": false,
     "start_time": "2022-06-27T13:17:33.711735",
     "status": "completed"
    },
    "tags": []
   },
   "outputs": [
    {
     "data": {
      "text/html": [
       "<div>\n",
       "<style scoped>\n",
       "    .dataframe tbody tr th:only-of-type {\n",
       "        vertical-align: middle;\n",
       "    }\n",
       "\n",
       "    .dataframe tbody tr th {\n",
       "        vertical-align: top;\n",
       "    }\n",
       "\n",
       "    .dataframe thead th {\n",
       "        text-align: right;\n",
       "    }\n",
       "</style>\n",
       "<table border=\"1\" class=\"dataframe\">\n",
       "  <thead>\n",
       "    <tr style=\"text-align: right;\">\n",
       "      <th></th>\n",
       "      <th>lat</th>\n",
       "      <th>lng</th>\n",
       "      <th>desc</th>\n",
       "      <th>zip</th>\n",
       "      <th>title</th>\n",
       "      <th>timeStamp</th>\n",
       "      <th>twp</th>\n",
       "      <th>addr</th>\n",
       "      <th>e</th>\n",
       "      <th>reason</th>\n",
       "      <th>hour</th>\n",
       "      <th>month</th>\n",
       "      <th>dayofweek</th>\n",
       "    </tr>\n",
       "  </thead>\n",
       "  <tbody>\n",
       "    <tr>\n",
       "      <th>0</th>\n",
       "      <td>40.297876</td>\n",
       "      <td>-75.581294</td>\n",
       "      <td>REINDEER CT &amp; DEAD END;  NEW HANOVER; Station ...</td>\n",
       "      <td>19525.0</td>\n",
       "      <td>EMS: BACK PAINS/INJURY</td>\n",
       "      <td>2015-12-10 17:10:52</td>\n",
       "      <td>NEW HANOVER</td>\n",
       "      <td>REINDEER CT &amp; DEAD END</td>\n",
       "      <td>1</td>\n",
       "      <td>EMS</td>\n",
       "      <td>17</td>\n",
       "      <td>12</td>\n",
       "      <td>3</td>\n",
       "    </tr>\n",
       "    <tr>\n",
       "      <th>1</th>\n",
       "      <td>40.258061</td>\n",
       "      <td>-75.264680</td>\n",
       "      <td>BRIAR PATH &amp; WHITEMARSH LN;  HATFIELD TOWNSHIP...</td>\n",
       "      <td>19446.0</td>\n",
       "      <td>EMS: DIABETIC EMERGENCY</td>\n",
       "      <td>2015-12-10 17:29:21</td>\n",
       "      <td>HATFIELD TOWNSHIP</td>\n",
       "      <td>BRIAR PATH &amp; WHITEMARSH LN</td>\n",
       "      <td>1</td>\n",
       "      <td>EMS</td>\n",
       "      <td>17</td>\n",
       "      <td>12</td>\n",
       "      <td>3</td>\n",
       "    </tr>\n",
       "    <tr>\n",
       "      <th>2</th>\n",
       "      <td>40.121182</td>\n",
       "      <td>-75.351975</td>\n",
       "      <td>HAWS AVE; NORRISTOWN; 2015-12-10 @ 14:39:21-St...</td>\n",
       "      <td>19401.0</td>\n",
       "      <td>Fire: GAS-ODOR/LEAK</td>\n",
       "      <td>2015-12-10 14:39:21</td>\n",
       "      <td>NORRISTOWN</td>\n",
       "      <td>HAWS AVE</td>\n",
       "      <td>1</td>\n",
       "      <td>Fire</td>\n",
       "      <td>14</td>\n",
       "      <td>12</td>\n",
       "      <td>3</td>\n",
       "    </tr>\n",
       "    <tr>\n",
       "      <th>3</th>\n",
       "      <td>40.116153</td>\n",
       "      <td>-75.343513</td>\n",
       "      <td>AIRY ST &amp; SWEDE ST;  NORRISTOWN; Station 308A;...</td>\n",
       "      <td>19401.0</td>\n",
       "      <td>EMS: CARDIAC EMERGENCY</td>\n",
       "      <td>2015-12-10 16:47:36</td>\n",
       "      <td>NORRISTOWN</td>\n",
       "      <td>AIRY ST &amp; SWEDE ST</td>\n",
       "      <td>1</td>\n",
       "      <td>EMS</td>\n",
       "      <td>16</td>\n",
       "      <td>12</td>\n",
       "      <td>3</td>\n",
       "    </tr>\n",
       "    <tr>\n",
       "      <th>4</th>\n",
       "      <td>40.251492</td>\n",
       "      <td>-75.603350</td>\n",
       "      <td>CHERRYWOOD CT &amp; DEAD END;  LOWER POTTSGROVE; S...</td>\n",
       "      <td>NaN</td>\n",
       "      <td>EMS: DIZZINESS</td>\n",
       "      <td>2015-12-10 16:56:52</td>\n",
       "      <td>LOWER POTTSGROVE</td>\n",
       "      <td>CHERRYWOOD CT &amp; DEAD END</td>\n",
       "      <td>1</td>\n",
       "      <td>EMS</td>\n",
       "      <td>16</td>\n",
       "      <td>12</td>\n",
       "      <td>3</td>\n",
       "    </tr>\n",
       "  </tbody>\n",
       "</table>\n",
       "</div>"
      ],
      "text/plain": [
       "         lat        lng                                               desc  \\\n",
       "0  40.297876 -75.581294  REINDEER CT & DEAD END;  NEW HANOVER; Station ...   \n",
       "1  40.258061 -75.264680  BRIAR PATH & WHITEMARSH LN;  HATFIELD TOWNSHIP...   \n",
       "2  40.121182 -75.351975  HAWS AVE; NORRISTOWN; 2015-12-10 @ 14:39:21-St...   \n",
       "3  40.116153 -75.343513  AIRY ST & SWEDE ST;  NORRISTOWN; Station 308A;...   \n",
       "4  40.251492 -75.603350  CHERRYWOOD CT & DEAD END;  LOWER POTTSGROVE; S...   \n",
       "\n",
       "       zip                    title           timeStamp                twp  \\\n",
       "0  19525.0   EMS: BACK PAINS/INJURY 2015-12-10 17:10:52        NEW HANOVER   \n",
       "1  19446.0  EMS: DIABETIC EMERGENCY 2015-12-10 17:29:21  HATFIELD TOWNSHIP   \n",
       "2  19401.0      Fire: GAS-ODOR/LEAK 2015-12-10 14:39:21         NORRISTOWN   \n",
       "3  19401.0   EMS: CARDIAC EMERGENCY 2015-12-10 16:47:36         NORRISTOWN   \n",
       "4      NaN           EMS: DIZZINESS 2015-12-10 16:56:52   LOWER POTTSGROVE   \n",
       "\n",
       "                         addr  e reason  hour  month  dayofweek  \n",
       "0      REINDEER CT & DEAD END  1    EMS    17     12          3  \n",
       "1  BRIAR PATH & WHITEMARSH LN  1    EMS    17     12          3  \n",
       "2                    HAWS AVE  1   Fire    14     12          3  \n",
       "3          AIRY ST & SWEDE ST  1    EMS    16     12          3  \n",
       "4    CHERRYWOOD CT & DEAD END  1    EMS    16     12          3  "
      ]
     },
     "execution_count": 16,
     "metadata": {},
     "output_type": "execute_result"
    }
   ],
   "source": [
    "df.head()"
   ]
  },
  {
   "cell_type": "markdown",
   "id": "2564c6a6",
   "metadata": {
    "papermill": {
     "duration": 0.01168,
     "end_time": "2022-06-27T13:17:33.767071",
     "exception": false,
     "start_time": "2022-06-27T13:17:33.755391",
     "status": "completed"
    },
    "tags": []
   },
   "source": [
    "**Day of Week is an integer 0-6. Use the .map() with this dictionary to map the actual string names to the day of the week:**\n",
    "\n",
    "dmap = {0:'Mon',1:'Tue',2:'Wed',3:'Thu',4:'Fri',5:'Sat',6:'Sun'}"
   ]
  },
  {
   "cell_type": "code",
   "execution_count": 17,
   "id": "9812c9bb",
   "metadata": {
    "execution": {
     "iopub.execute_input": "2022-06-27T13:17:33.792899Z",
     "iopub.status.busy": "2022-06-27T13:17:33.792533Z",
     "iopub.status.idle": "2022-06-27T13:17:33.797726Z",
     "shell.execute_reply": "2022-06-27T13:17:33.796553Z"
    },
    "papermill": {
     "duration": 0.020392,
     "end_time": "2022-06-27T13:17:33.799828",
     "exception": false,
     "start_time": "2022-06-27T13:17:33.779436",
     "status": "completed"
    },
    "tags": []
   },
   "outputs": [],
   "source": [
    "dmap = {0:'Mon',1:'Tue',2:'Wed',3:'Thu',4:'Fri',5:'Sat',6:'Sun'}"
   ]
  },
  {
   "cell_type": "code",
   "execution_count": 18,
   "id": "652c66f9",
   "metadata": {
    "execution": {
     "iopub.execute_input": "2022-06-27T13:17:33.825979Z",
     "iopub.status.busy": "2022-06-27T13:17:33.825247Z",
     "iopub.status.idle": "2022-06-27T13:17:33.845700Z",
     "shell.execute_reply": "2022-06-27T13:17:33.844839Z"
    },
    "papermill": {
     "duration": 0.036179,
     "end_time": "2022-06-27T13:17:33.848118",
     "exception": false,
     "start_time": "2022-06-27T13:17:33.811939",
     "status": "completed"
    },
    "tags": []
   },
   "outputs": [],
   "source": [
    "df[\"dayofweek\"] = df[\"dayofweek\"].map(dmap)"
   ]
  },
  {
   "cell_type": "code",
   "execution_count": 19,
   "id": "c978e8ff",
   "metadata": {
    "execution": {
     "iopub.execute_input": "2022-06-27T13:17:33.874193Z",
     "iopub.status.busy": "2022-06-27T13:17:33.873798Z",
     "iopub.status.idle": "2022-06-27T13:17:33.890926Z",
     "shell.execute_reply": "2022-06-27T13:17:33.889812Z"
    },
    "papermill": {
     "duration": 0.03282,
     "end_time": "2022-06-27T13:17:33.893197",
     "exception": false,
     "start_time": "2022-06-27T13:17:33.860377",
     "status": "completed"
    },
    "tags": []
   },
   "outputs": [
    {
     "data": {
      "text/html": [
       "<div>\n",
       "<style scoped>\n",
       "    .dataframe tbody tr th:only-of-type {\n",
       "        vertical-align: middle;\n",
       "    }\n",
       "\n",
       "    .dataframe tbody tr th {\n",
       "        vertical-align: top;\n",
       "    }\n",
       "\n",
       "    .dataframe thead th {\n",
       "        text-align: right;\n",
       "    }\n",
       "</style>\n",
       "<table border=\"1\" class=\"dataframe\">\n",
       "  <thead>\n",
       "    <tr style=\"text-align: right;\">\n",
       "      <th></th>\n",
       "      <th>lat</th>\n",
       "      <th>lng</th>\n",
       "      <th>desc</th>\n",
       "      <th>zip</th>\n",
       "      <th>title</th>\n",
       "      <th>timeStamp</th>\n",
       "      <th>twp</th>\n",
       "      <th>addr</th>\n",
       "      <th>e</th>\n",
       "      <th>reason</th>\n",
       "      <th>hour</th>\n",
       "      <th>month</th>\n",
       "      <th>dayofweek</th>\n",
       "    </tr>\n",
       "  </thead>\n",
       "  <tbody>\n",
       "    <tr>\n",
       "      <th>0</th>\n",
       "      <td>40.297876</td>\n",
       "      <td>-75.581294</td>\n",
       "      <td>REINDEER CT &amp; DEAD END;  NEW HANOVER; Station ...</td>\n",
       "      <td>19525.0</td>\n",
       "      <td>EMS: BACK PAINS/INJURY</td>\n",
       "      <td>2015-12-10 17:10:52</td>\n",
       "      <td>NEW HANOVER</td>\n",
       "      <td>REINDEER CT &amp; DEAD END</td>\n",
       "      <td>1</td>\n",
       "      <td>EMS</td>\n",
       "      <td>17</td>\n",
       "      <td>12</td>\n",
       "      <td>Thu</td>\n",
       "    </tr>\n",
       "    <tr>\n",
       "      <th>1</th>\n",
       "      <td>40.258061</td>\n",
       "      <td>-75.264680</td>\n",
       "      <td>BRIAR PATH &amp; WHITEMARSH LN;  HATFIELD TOWNSHIP...</td>\n",
       "      <td>19446.0</td>\n",
       "      <td>EMS: DIABETIC EMERGENCY</td>\n",
       "      <td>2015-12-10 17:29:21</td>\n",
       "      <td>HATFIELD TOWNSHIP</td>\n",
       "      <td>BRIAR PATH &amp; WHITEMARSH LN</td>\n",
       "      <td>1</td>\n",
       "      <td>EMS</td>\n",
       "      <td>17</td>\n",
       "      <td>12</td>\n",
       "      <td>Thu</td>\n",
       "    </tr>\n",
       "    <tr>\n",
       "      <th>2</th>\n",
       "      <td>40.121182</td>\n",
       "      <td>-75.351975</td>\n",
       "      <td>HAWS AVE; NORRISTOWN; 2015-12-10 @ 14:39:21-St...</td>\n",
       "      <td>19401.0</td>\n",
       "      <td>Fire: GAS-ODOR/LEAK</td>\n",
       "      <td>2015-12-10 14:39:21</td>\n",
       "      <td>NORRISTOWN</td>\n",
       "      <td>HAWS AVE</td>\n",
       "      <td>1</td>\n",
       "      <td>Fire</td>\n",
       "      <td>14</td>\n",
       "      <td>12</td>\n",
       "      <td>Thu</td>\n",
       "    </tr>\n",
       "    <tr>\n",
       "      <th>3</th>\n",
       "      <td>40.116153</td>\n",
       "      <td>-75.343513</td>\n",
       "      <td>AIRY ST &amp; SWEDE ST;  NORRISTOWN; Station 308A;...</td>\n",
       "      <td>19401.0</td>\n",
       "      <td>EMS: CARDIAC EMERGENCY</td>\n",
       "      <td>2015-12-10 16:47:36</td>\n",
       "      <td>NORRISTOWN</td>\n",
       "      <td>AIRY ST &amp; SWEDE ST</td>\n",
       "      <td>1</td>\n",
       "      <td>EMS</td>\n",
       "      <td>16</td>\n",
       "      <td>12</td>\n",
       "      <td>Thu</td>\n",
       "    </tr>\n",
       "    <tr>\n",
       "      <th>4</th>\n",
       "      <td>40.251492</td>\n",
       "      <td>-75.603350</td>\n",
       "      <td>CHERRYWOOD CT &amp; DEAD END;  LOWER POTTSGROVE; S...</td>\n",
       "      <td>NaN</td>\n",
       "      <td>EMS: DIZZINESS</td>\n",
       "      <td>2015-12-10 16:56:52</td>\n",
       "      <td>LOWER POTTSGROVE</td>\n",
       "      <td>CHERRYWOOD CT &amp; DEAD END</td>\n",
       "      <td>1</td>\n",
       "      <td>EMS</td>\n",
       "      <td>16</td>\n",
       "      <td>12</td>\n",
       "      <td>Thu</td>\n",
       "    </tr>\n",
       "  </tbody>\n",
       "</table>\n",
       "</div>"
      ],
      "text/plain": [
       "         lat        lng                                               desc  \\\n",
       "0  40.297876 -75.581294  REINDEER CT & DEAD END;  NEW HANOVER; Station ...   \n",
       "1  40.258061 -75.264680  BRIAR PATH & WHITEMARSH LN;  HATFIELD TOWNSHIP...   \n",
       "2  40.121182 -75.351975  HAWS AVE; NORRISTOWN; 2015-12-10 @ 14:39:21-St...   \n",
       "3  40.116153 -75.343513  AIRY ST & SWEDE ST;  NORRISTOWN; Station 308A;...   \n",
       "4  40.251492 -75.603350  CHERRYWOOD CT & DEAD END;  LOWER POTTSGROVE; S...   \n",
       "\n",
       "       zip                    title           timeStamp                twp  \\\n",
       "0  19525.0   EMS: BACK PAINS/INJURY 2015-12-10 17:10:52        NEW HANOVER   \n",
       "1  19446.0  EMS: DIABETIC EMERGENCY 2015-12-10 17:29:21  HATFIELD TOWNSHIP   \n",
       "2  19401.0      Fire: GAS-ODOR/LEAK 2015-12-10 14:39:21         NORRISTOWN   \n",
       "3  19401.0   EMS: CARDIAC EMERGENCY 2015-12-10 16:47:36         NORRISTOWN   \n",
       "4      NaN           EMS: DIZZINESS 2015-12-10 16:56:52   LOWER POTTSGROVE   \n",
       "\n",
       "                         addr  e reason  hour  month dayofweek  \n",
       "0      REINDEER CT & DEAD END  1    EMS    17     12       Thu  \n",
       "1  BRIAR PATH & WHITEMARSH LN  1    EMS    17     12       Thu  \n",
       "2                    HAWS AVE  1   Fire    14     12       Thu  \n",
       "3          AIRY ST & SWEDE ST  1    EMS    16     12       Thu  \n",
       "4    CHERRYWOOD CT & DEAD END  1    EMS    16     12       Thu  "
      ]
     },
     "execution_count": 19,
     "metadata": {},
     "output_type": "execute_result"
    }
   ],
   "source": [
    "df.head()"
   ]
  },
  {
   "cell_type": "markdown",
   "id": "2256aee7",
   "metadata": {
    "papermill": {
     "duration": 0.011858,
     "end_time": "2022-06-27T13:17:33.917337",
     "exception": false,
     "start_time": "2022-06-27T13:17:33.905479",
     "status": "completed"
    },
    "tags": []
   },
   "source": [
    "**Create a countplot of the Day of Week column with the hue based off of the Reason column.**"
   ]
  },
  {
   "cell_type": "code",
   "execution_count": 20,
   "id": "98963216",
   "metadata": {
    "execution": {
     "iopub.execute_input": "2022-06-27T13:17:33.943799Z",
     "iopub.status.busy": "2022-06-27T13:17:33.943467Z",
     "iopub.status.idle": "2022-06-27T13:17:34.913823Z",
     "shell.execute_reply": "2022-06-27T13:17:34.912637Z"
    },
    "papermill": {
     "duration": 0.986252,
     "end_time": "2022-06-27T13:17:34.916269",
     "exception": false,
     "start_time": "2022-06-27T13:17:33.930017",
     "status": "completed"
    },
    "tags": []
   },
   "outputs": [
    {
     "data": {
      "text/plain": [
       "<matplotlib.legend.Legend at 0x7f6e8056dc50>"
      ]
     },
     "execution_count": 20,
     "metadata": {},
     "output_type": "execute_result"
    },
    {
     "data": {
      "image/png": "[encoded data removed]",
      "text/plain": [
       "<Figure size 432x288 with 1 Axes>"
      ]
     },
     "metadata": {
      "needs_background": "light"
     },
     "output_type": "display_data"
    }
   ],
   "source": [
    "sns.countplot(x=df[\"dayofweek\"], hue=df[\"reason\"])\n",
    "plt.legend(bbox_to_anchor=(1.05, 1), loc=2, borderaxespad=0.)"
   ]
  },
  {
   "cell_type": "markdown",
   "id": "ad00ed83",
   "metadata": {
    "papermill": {
     "duration": 0.012141,
     "end_time": "2022-06-27T13:17:34.941210",
     "exception": false,
     "start_time": "2022-06-27T13:17:34.929069",
     "status": "completed"
    },
    "tags": []
   },
   "source": [
    "**The same for Month**"
   ]
  },
  {
   "cell_type": "code",
   "execution_count": 21,
   "id": "3c178ee3",
   "metadata": {
    "execution": {
     "iopub.execute_input": "2022-06-27T13:17:34.968060Z",
     "iopub.status.busy": "2022-06-27T13:17:34.967357Z",
     "iopub.status.idle": "2022-06-27T13:17:35.563125Z",
     "shell.execute_reply": "2022-06-27T13:17:35.562010Z"
    },
    "papermill": {
     "duration": 0.611675,
     "end_time": "2022-06-27T13:17:35.565260",
     "exception": false,
     "start_time": "2022-06-27T13:17:34.953585",
     "status": "completed"
    },
    "tags": []
   },
   "outputs": [
    {
     "data": {
      "text/plain": [
       "<matplotlib.legend.Legend at 0x7f6e84a0c750>"
      ]
     },
     "execution_count": 21,
     "metadata": {},
     "output_type": "execute_result"
    },
    {
     "data": {
      "image/png": "[encoded data removed]",
      "text/plain": [
       "<Figure size 432x288 with 1 Axes>"
      ]
     },
     "metadata": {
      "needs_background": "light"
     },
     "output_type": "display_data"
    }
   ],
   "source": [
    "sns.countplot(x=df[\"month\"], hue=df[\"reason\"])\n",
    "plt.legend(bbox_to_anchor=(1.05, 1), loc=2, borderaxespad=0.)"
   ]
  },
  {
   "cell_type": "markdown",
   "id": "e07e0c7a",
   "metadata": {
    "papermill": {
     "duration": 0.012535,
     "end_time": "2022-06-27T13:17:35.590556",
     "exception": false,
     "start_time": "2022-06-27T13:17:35.578021",
     "status": "completed"
    },
    "tags": []
   },
   "source": [
    "We noticed it was missing some Months, let's see if we can maybe fill in this information by plotting the information in another way, possibly a simple line plot that fills in the missing months.\n",
    "\n",
    "**Create a gropuby object called byMonth, where we group the DataFrame by the month column and use the count() method for aggregation. Use the head() method on this returned DataFrame.**"
   ]
  },
  {
   "cell_type": "code",
   "execution_count": 22,
   "id": "f0e4a8c8",
   "metadata": {
    "execution": {
     "iopub.execute_input": "2022-06-27T13:17:35.617902Z",
     "iopub.status.busy": "2022-06-27T13:17:35.617535Z",
     "iopub.status.idle": "2022-06-27T13:17:36.052138Z",
     "shell.execute_reply": "2022-06-27T13:17:36.051201Z"
    },
    "papermill": {
     "duration": 0.451483,
     "end_time": "2022-06-27T13:17:36.054733",
     "exception": false,
     "start_time": "2022-06-27T13:17:35.603250",
     "status": "completed"
    },
    "tags": []
   },
   "outputs": [],
   "source": [
    "byMonth = df.groupby(\"month\").count()"
   ]
  },
  {
   "cell_type": "code",
   "execution_count": 23,
   "id": "10ec8b0e",
   "metadata": {
    "execution": {
     "iopub.execute_input": "2022-06-27T13:17:36.082550Z",
     "iopub.status.busy": "2022-06-27T13:17:36.081678Z",
     "iopub.status.idle": "2022-06-27T13:17:36.094092Z",
     "shell.execute_reply": "2022-06-27T13:17:36.093032Z"
    },
    "papermill": {
     "duration": 0.028633,
     "end_time": "2022-06-27T13:17:36.096261",
     "exception": false,
     "start_time": "2022-06-27T13:17:36.067628",
     "status": "completed"
    },
    "tags": []
   },
   "outputs": [
    {
     "data": {
      "text/html": [
       "<div>\n",
       "<style scoped>\n",
       "    .dataframe tbody tr th:only-of-type {\n",
       "        vertical-align: middle;\n",
       "    }\n",
       "\n",
       "    .dataframe tbody tr th {\n",
       "        vertical-align: top;\n",
       "    }\n",
       "\n",
       "    .dataframe thead th {\n",
       "        text-align: right;\n",
       "    }\n",
       "</style>\n",
       "<table border=\"1\" class=\"dataframe\">\n",
       "  <thead>\n",
       "    <tr style=\"text-align: right;\">\n",
       "      <th></th>\n",
       "      <th>lat</th>\n",
       "      <th>lng</th>\n",
       "      <th>desc</th>\n",
       "      <th>zip</th>\n",
       "      <th>title</th>\n",
       "      <th>timeStamp</th>\n",
       "      <th>twp</th>\n",
       "      <th>addr</th>\n",
       "      <th>e</th>\n",
       "      <th>reason</th>\n",
       "      <th>hour</th>\n",
       "      <th>dayofweek</th>\n",
       "    </tr>\n",
       "    <tr>\n",
       "      <th>month</th>\n",
       "      <th></th>\n",
       "      <th></th>\n",
       "      <th></th>\n",
       "      <th></th>\n",
       "      <th></th>\n",
       "      <th></th>\n",
       "      <th></th>\n",
       "      <th></th>\n",
       "      <th></th>\n",
       "      <th></th>\n",
       "      <th></th>\n",
       "      <th></th>\n",
       "    </tr>\n",
       "  </thead>\n",
       "  <tbody>\n",
       "    <tr>\n",
       "      <th>1</th>\n",
       "      <td>62336</td>\n",
       "      <td>62336</td>\n",
       "      <td>62336</td>\n",
       "      <td>55294</td>\n",
       "      <td>62336</td>\n",
       "      <td>62336</td>\n",
       "      <td>62312</td>\n",
       "      <td>62336</td>\n",
       "      <td>62336</td>\n",
       "      <td>62336</td>\n",
       "      <td>62336</td>\n",
       "      <td>62336</td>\n",
       "    </tr>\n",
       "    <tr>\n",
       "      <th>2</th>\n",
       "      <td>55427</td>\n",
       "      <td>55427</td>\n",
       "      <td>55427</td>\n",
       "      <td>48922</td>\n",
       "      <td>55427</td>\n",
       "      <td>55427</td>\n",
       "      <td>55405</td>\n",
       "      <td>55427</td>\n",
       "      <td>55427</td>\n",
       "      <td>55427</td>\n",
       "      <td>55427</td>\n",
       "      <td>55427</td>\n",
       "    </tr>\n",
       "    <tr>\n",
       "      <th>3</th>\n",
       "      <td>60027</td>\n",
       "      <td>60027</td>\n",
       "      <td>60027</td>\n",
       "      <td>53252</td>\n",
       "      <td>60027</td>\n",
       "      <td>60027</td>\n",
       "      <td>60001</td>\n",
       "      <td>60027</td>\n",
       "      <td>60027</td>\n",
       "      <td>60027</td>\n",
       "      <td>60027</td>\n",
       "      <td>60027</td>\n",
       "    </tr>\n",
       "    <tr>\n",
       "      <th>4</th>\n",
       "      <td>53671</td>\n",
       "      <td>53671</td>\n",
       "      <td>53671</td>\n",
       "      <td>47349</td>\n",
       "      <td>53671</td>\n",
       "      <td>53671</td>\n",
       "      <td>53655</td>\n",
       "      <td>53671</td>\n",
       "      <td>53671</td>\n",
       "      <td>53671</td>\n",
       "      <td>53671</td>\n",
       "      <td>53671</td>\n",
       "    </tr>\n",
       "    <tr>\n",
       "      <th>5</th>\n",
       "      <td>57509</td>\n",
       "      <td>57509</td>\n",
       "      <td>57509</td>\n",
       "      <td>50354</td>\n",
       "      <td>57509</td>\n",
       "      <td>57509</td>\n",
       "      <td>57474</td>\n",
       "      <td>57509</td>\n",
       "      <td>57509</td>\n",
       "      <td>57509</td>\n",
       "      <td>57509</td>\n",
       "      <td>57509</td>\n",
       "    </tr>\n",
       "  </tbody>\n",
       "</table>\n",
       "</div>"
      ],
      "text/plain": [
       "         lat    lng   desc    zip  title  timeStamp    twp   addr      e  \\\n",
       "month                                                                      \n",
       "1      62336  62336  62336  55294  62336      62336  62312  62336  62336   \n",
       "2      55427  55427  55427  48922  55427      55427  55405  55427  55427   \n",
       "3      60027  60027  60027  53252  60027      60027  60001  60027  60027   \n",
       "4      53671  53671  53671  47349  53671      53671  53655  53671  53671   \n",
       "5      57509  57509  57509  50354  57509      57509  57474  57509  57509   \n",
       "\n",
       "       reason   hour  dayofweek  \n",
       "month                            \n",
       "1       62336  62336      62336  \n",
       "2       55427  55427      55427  \n",
       "3       60027  60027      60027  \n",
       "4       53671  53671      53671  \n",
       "5       57509  57509      57509  "
      ]
     },
     "execution_count": 23,
     "metadata": {},
     "output_type": "execute_result"
    }
   ],
   "source": [
    "byMonth.head()"
   ]
  },
  {
   "cell_type": "markdown",
   "id": "da5c61f4",
   "metadata": {
    "papermill": {
     "duration": 0.012801,
     "end_time": "2022-06-27T13:17:36.122194",
     "exception": false,
     "start_time": "2022-06-27T13:17:36.109393",
     "status": "completed"
    },
    "tags": []
   },
   "source": [
    "**Create a simple plot off of the dataframe indicating the count of calls per month.**"
   ]
  },
  {
   "cell_type": "code",
   "execution_count": 24,
   "id": "61fba2cb",
   "metadata": {
    "execution": {
     "iopub.execute_input": "2022-06-27T13:17:36.150207Z",
     "iopub.status.busy": "2022-06-27T13:17:36.149412Z",
     "iopub.status.idle": "2022-06-27T13:17:36.342944Z",
     "shell.execute_reply": "2022-06-27T13:17:36.341845Z"
    },
    "papermill": {
     "duration": 0.210031,
     "end_time": "2022-06-27T13:17:36.345135",
     "exception": false,
     "start_time": "2022-06-27T13:17:36.135104",
     "status": "completed"
    },
    "tags": []
   },
   "outputs": [
    {
     "data": {
      "text/plain": [
       "<AxesSubplot:xlabel='month', ylabel='count'>"
      ]
     },
     "execution_count": 24,
     "metadata": {},
     "output_type": "execute_result"
    },
    {
     "data": {
      "image/png": "[encoded data removed]",
      "text/plain": [
       "<Figure size 432x288 with 1 Axes>"
      ]
     },
     "metadata": {
      "needs_background": "light"
     },
     "output_type": "display_data"
    }
   ],
   "source": [
    "sns.countplot(x=df[\"month\"])"
   ]
  },
  {
   "cell_type": "code",
   "execution_count": 25,
   "id": "06a21c18",
   "metadata": {
    "execution": {
     "iopub.execute_input": "2022-06-27T13:17:36.374137Z",
     "iopub.status.busy": "2022-06-27T13:17:36.373441Z",
     "iopub.status.idle": "2022-06-27T13:17:36.512552Z",
     "shell.execute_reply": "2022-06-27T13:17:36.511812Z"
    },
    "papermill": {
     "duration": 0.15586,
     "end_time": "2022-06-27T13:17:36.514601",
     "exception": false,
     "start_time": "2022-06-27T13:17:36.358741",
     "status": "completed"
    },
    "tags": []
   },
   "outputs": [
    {
     "data": {
      "text/plain": [
       "<AxesSubplot:xlabel='month'>"
      ]
     },
     "execution_count": 25,
     "metadata": {},
     "output_type": "execute_result"
    },
    {
     "data": {
      "image/png": "[encoded data removed]",
      "text/plain": [
       "<Figure size 432x288 with 1 Axes>"
      ]
     },
     "metadata": {
      "needs_background": "light"
     },
     "output_type": "display_data"
    }
   ],
   "source": [
    "byMonth[\"lat\"].plot()"
   ]
  },
  {
   "cell_type": "markdown",
   "id": "ffdedae6",
   "metadata": {
    "papermill": {
     "duration": 0.013787,
     "end_time": "2022-06-27T13:17:36.542405",
     "exception": false,
     "start_time": "2022-06-27T13:17:36.528618",
     "status": "completed"
    },
    "tags": []
   },
   "source": [
    "**Create a linear fit on the number of calls per month.**"
   ]
  },
  {
   "cell_type": "code",
   "execution_count": 26,
   "id": "4c2c7b2c",
   "metadata": {
    "execution": {
     "iopub.execute_input": "2022-06-27T13:17:36.572863Z",
     "iopub.status.busy": "2022-06-27T13:17:36.572456Z",
     "iopub.status.idle": "2022-06-27T13:17:36.587360Z",
     "shell.execute_reply": "2022-06-27T13:17:36.586453Z"
    },
    "papermill": {
     "duration": 0.032903,
     "end_time": "2022-06-27T13:17:36.589401",
     "exception": false,
     "start_time": "2022-06-27T13:17:36.556498",
     "status": "completed"
    },
    "tags": []
   },
   "outputs": [
    {
     "data": {
      "text/html": [
       "<div>\n",
       "<style scoped>\n",
       "    .dataframe tbody tr th:only-of-type {\n",
       "        vertical-align: middle;\n",
       "    }\n",
       "\n",
       "    .dataframe tbody tr th {\n",
       "        vertical-align: top;\n",
       "    }\n",
       "\n",
       "    .dataframe thead th {\n",
       "        text-align: right;\n",
       "    }\n",
       "</style>\n",
       "<table border=\"1\" class=\"dataframe\">\n",
       "  <thead>\n",
       "    <tr style=\"text-align: right;\">\n",
       "      <th></th>\n",
       "      <th>month</th>\n",
       "      <th>lat</th>\n",
       "      <th>lng</th>\n",
       "      <th>desc</th>\n",
       "      <th>zip</th>\n",
       "      <th>title</th>\n",
       "      <th>timeStamp</th>\n",
       "      <th>twp</th>\n",
       "      <th>addr</th>\n",
       "      <th>e</th>\n",
       "      <th>reason</th>\n",
       "      <th>hour</th>\n",
       "      <th>dayofweek</th>\n",
       "    </tr>\n",
       "  </thead>\n",
       "  <tbody>\n",
       "    <tr>\n",
       "      <th>0</th>\n",
       "      <td>1</td>\n",
       "      <td>62336</td>\n",
       "      <td>62336</td>\n",
       "      <td>62336</td>\n",
       "      <td>55294</td>\n",
       "      <td>62336</td>\n",
       "      <td>62336</td>\n",
       "      <td>62312</td>\n",
       "      <td>62336</td>\n",
       "      <td>62336</td>\n",
       "      <td>62336</td>\n",
       "      <td>62336</td>\n",
       "      <td>62336</td>\n",
       "    </tr>\n",
       "    <tr>\n",
       "      <th>1</th>\n",
       "      <td>2</td>\n",
       "      <td>55427</td>\n",
       "      <td>55427</td>\n",
       "      <td>55427</td>\n",
       "      <td>48922</td>\n",
       "      <td>55427</td>\n",
       "      <td>55427</td>\n",
       "      <td>55405</td>\n",
       "      <td>55427</td>\n",
       "      <td>55427</td>\n",
       "      <td>55427</td>\n",
       "      <td>55427</td>\n",
       "      <td>55427</td>\n",
       "    </tr>\n",
       "    <tr>\n",
       "      <th>2</th>\n",
       "      <td>3</td>\n",
       "      <td>60027</td>\n",
       "      <td>60027</td>\n",
       "      <td>60027</td>\n",
       "      <td>53252</td>\n",
       "      <td>60027</td>\n",
       "      <td>60027</td>\n",
       "      <td>60001</td>\n",
       "      <td>60027</td>\n",
       "      <td>60027</td>\n",
       "      <td>60027</td>\n",
       "      <td>60027</td>\n",
       "      <td>60027</td>\n",
       "    </tr>\n",
       "    <tr>\n",
       "      <th>3</th>\n",
       "      <td>4</td>\n",
       "      <td>53671</td>\n",
       "      <td>53671</td>\n",
       "      <td>53671</td>\n",
       "      <td>47349</td>\n",
       "      <td>53671</td>\n",
       "      <td>53671</td>\n",
       "      <td>53655</td>\n",
       "      <td>53671</td>\n",
       "      <td>53671</td>\n",
       "      <td>53671</td>\n",
       "      <td>53671</td>\n",
       "      <td>53671</td>\n",
       "    </tr>\n",
       "    <tr>\n",
       "      <th>4</th>\n",
       "      <td>5</td>\n",
       "      <td>57509</td>\n",
       "      <td>57509</td>\n",
       "      <td>57509</td>\n",
       "      <td>50354</td>\n",
       "      <td>57509</td>\n",
       "      <td>57509</td>\n",
       "      <td>57474</td>\n",
       "      <td>57509</td>\n",
       "      <td>57509</td>\n",
       "      <td>57509</td>\n",
       "      <td>57509</td>\n",
       "      <td>57509</td>\n",
       "    </tr>\n",
       "    <tr>\n",
       "      <th>5</th>\n",
       "      <td>6</td>\n",
       "      <td>60034</td>\n",
       "      <td>60034</td>\n",
       "      <td>60034</td>\n",
       "      <td>52593</td>\n",
       "      <td>60034</td>\n",
       "      <td>60034</td>\n",
       "      <td>60005</td>\n",
       "      <td>60034</td>\n",
       "      <td>60034</td>\n",
       "      <td>60034</td>\n",
       "      <td>60034</td>\n",
       "      <td>60034</td>\n",
       "    </tr>\n",
       "    <tr>\n",
       "      <th>6</th>\n",
       "      <td>7</td>\n",
       "      <td>59832</td>\n",
       "      <td>59832</td>\n",
       "      <td>59832</td>\n",
       "      <td>52507</td>\n",
       "      <td>59832</td>\n",
       "      <td>59832</td>\n",
       "      <td>59802</td>\n",
       "      <td>59832</td>\n",
       "      <td>59832</td>\n",
       "      <td>59832</td>\n",
       "      <td>59832</td>\n",
       "      <td>59832</td>\n",
       "    </tr>\n",
       "    <tr>\n",
       "      <th>7</th>\n",
       "      <td>8</td>\n",
       "      <td>48359</td>\n",
       "      <td>48359</td>\n",
       "      <td>48359</td>\n",
       "      <td>42311</td>\n",
       "      <td>48359</td>\n",
       "      <td>48359</td>\n",
       "      <td>48335</td>\n",
       "      <td>48359</td>\n",
       "      <td>48359</td>\n",
       "      <td>48359</td>\n",
       "      <td>48359</td>\n",
       "      <td>48359</td>\n",
       "    </tr>\n",
       "    <tr>\n",
       "      <th>8</th>\n",
       "      <td>9</td>\n",
       "      <td>47213</td>\n",
       "      <td>47213</td>\n",
       "      <td>47213</td>\n",
       "      <td>41289</td>\n",
       "      <td>47213</td>\n",
       "      <td>47213</td>\n",
       "      <td>47196</td>\n",
       "      <td>47213</td>\n",
       "      <td>47213</td>\n",
       "      <td>47213</td>\n",
       "      <td>47213</td>\n",
       "      <td>47213</td>\n",
       "    </tr>\n",
       "    <tr>\n",
       "      <th>9</th>\n",
       "      <td>10</td>\n",
       "      <td>51240</td>\n",
       "      <td>51240</td>\n",
       "      <td>51240</td>\n",
       "      <td>44582</td>\n",
       "      <td>51240</td>\n",
       "      <td>51240</td>\n",
       "      <td>51220</td>\n",
       "      <td>51240</td>\n",
       "      <td>51240</td>\n",
       "      <td>51240</td>\n",
       "      <td>51240</td>\n",
       "      <td>51240</td>\n",
       "    </tr>\n",
       "    <tr>\n",
       "      <th>10</th>\n",
       "      <td>11</td>\n",
       "      <td>50182</td>\n",
       "      <td>50182</td>\n",
       "      <td>50182</td>\n",
       "      <td>44087</td>\n",
       "      <td>50182</td>\n",
       "      <td>50182</td>\n",
       "      <td>50157</td>\n",
       "      <td>50182</td>\n",
       "      <td>50182</td>\n",
       "      <td>50182</td>\n",
       "      <td>50182</td>\n",
       "      <td>50182</td>\n",
       "    </tr>\n",
       "    <tr>\n",
       "      <th>11</th>\n",
       "      <td>12</td>\n",
       "      <td>57692</td>\n",
       "      <td>57692</td>\n",
       "      <td>57692</td>\n",
       "      <td>50783</td>\n",
       "      <td>57692</td>\n",
       "      <td>57692</td>\n",
       "      <td>57667</td>\n",
       "      <td>57692</td>\n",
       "      <td>57692</td>\n",
       "      <td>57692</td>\n",
       "      <td>57692</td>\n",
       "      <td>57692</td>\n",
       "    </tr>\n",
       "  </tbody>\n",
       "</table>\n",
       "</div>"
      ],
      "text/plain": [
       "    month    lat    lng   desc    zip  title  timeStamp    twp   addr      e  \\\n",
       "0       1  62336  62336  62336  55294  62336      62336  62312  62336  62336   \n",
       "1       2  55427  55427  55427  48922  55427      55427  55405  55427  55427   \n",
       "2       3  60027  60027  60027  53252  60027      60027  60001  60027  60027   \n",
       "3       4  53671  53671  53671  47349  53671      53671  53655  53671  53671   \n",
       "4       5  57509  57509  57509  50354  57509      57509  57474  57509  57509   \n",
       "5       6  60034  60034  60034  52593  60034      60034  60005  60034  60034   \n",
       "6       7  59832  59832  59832  52507  59832      59832  59802  59832  59832   \n",
       "7       8  48359  48359  48359  42311  48359      48359  48335  48359  48359   \n",
       "8       9  47213  47213  47213  41289  47213      47213  47196  47213  47213   \n",
       "9      10  51240  51240  51240  44582  51240      51240  51220  51240  51240   \n",
       "10     11  50182  50182  50182  44087  50182      50182  50157  50182  50182   \n",
       "11     12  57692  57692  57692  50783  57692      57692  57667  57692  57692   \n",
       "\n",
       "    reason   hour  dayofweek  \n",
       "0    62336  62336      62336  \n",
       "1    55427  55427      55427  \n",
       "2    60027  60027      60027  \n",
       "3    53671  53671      53671  \n",
       "4    57509  57509      57509  \n",
       "5    60034  60034      60034  \n",
       "6    59832  59832      59832  \n",
       "7    48359  48359      48359  \n",
       "8    47213  47213      47213  \n",
       "9    51240  51240      51240  \n",
       "10   50182  50182      50182  \n",
       "11   57692  57692      57692  "
      ]
     },
     "execution_count": 26,
     "metadata": {},
     "output_type": "execute_result"
    }
   ],
   "source": [
    "byMonth.reset_index()"
   ]
  },
  {
   "cell_type": "code",
   "execution_count": 27,
   "id": "58725f6f",
   "metadata": {
    "execution": {
     "iopub.execute_input": "2022-06-27T13:17:36.619409Z",
     "iopub.status.busy": "2022-06-27T13:17:36.618763Z",
     "iopub.status.idle": "2022-06-27T13:17:36.969102Z",
     "shell.execute_reply": "2022-06-27T13:17:36.968027Z"
    },
    "papermill": {
     "duration": 0.36792,
     "end_time": "2022-06-27T13:17:36.971276",
     "exception": false,
     "start_time": "2022-06-27T13:17:36.603356",
     "status": "completed"
    },
    "tags": []
   },
   "outputs": [
    {
     "data": {
      "text/plain": [
       "<seaborn.axisgrid.FacetGrid at 0x7f6e77b17d50>"
      ]
     },
     "execution_count": 27,
     "metadata": {},
     "output_type": "execute_result"
    },
    {
     "data": {
      "image/png": "[encoded data removed]",
      "text/plain": [
       "<Figure size 360x360 with 1 Axes>"
      ]
     },
     "metadata": {
      "needs_background": "light"
     },
     "output_type": "display_data"
    }
   ],
   "source": [
    "sns.lmplot(x=\"month\",y=\"twp\",data=byMonth.reset_index())"
   ]
  },
  {
   "cell_type": "markdown",
   "id": "07b1b46e",
   "metadata": {
    "papermill": {
     "duration": 0.014956,
     "end_time": "2022-06-27T13:17:37.000739",
     "exception": false,
     "start_time": "2022-06-27T13:17:36.985783",
     "status": "completed"
    },
    "tags": []
   },
   "source": [
    "**Create a new column called 'Date' that contains the date from the timeStamp column.**"
   ]
  },
  {
   "cell_type": "code",
   "execution_count": 28,
   "id": "02ca62b4",
   "metadata": {
    "execution": {
     "iopub.execute_input": "2022-06-27T13:17:37.031892Z",
     "iopub.status.busy": "2022-06-27T13:17:37.031496Z",
     "iopub.status.idle": "2022-06-27T13:17:39.813339Z",
     "shell.execute_reply": "2022-06-27T13:17:39.812196Z"
    },
    "papermill": {
     "duration": 2.80085,
     "end_time": "2022-06-27T13:17:39.816131",
     "exception": false,
     "start_time": "2022-06-27T13:17:37.015281",
     "status": "completed"
    },
    "tags": []
   },
   "outputs": [],
   "source": [
    "df[\"date\"] = df[\"timeStamp\"].apply(lambda x: x.date())"
   ]
  },
  {
   "cell_type": "code",
   "execution_count": 29,
   "id": "60e43ecf",
   "metadata": {
    "execution": {
     "iopub.execute_input": "2022-06-27T13:17:39.847633Z",
     "iopub.status.busy": "2022-06-27T13:17:39.846923Z",
     "iopub.status.idle": "2022-06-27T13:17:39.864283Z",
     "shell.execute_reply": "2022-06-27T13:17:39.863240Z"
    },
    "papermill": {
     "duration": 0.035595,
     "end_time": "2022-06-27T13:17:39.866399",
     "exception": false,
     "start_time": "2022-06-27T13:17:39.830804",
     "status": "completed"
    },
    "tags": []
   },
   "outputs": [
    {
     "data": {
      "text/html": [
       "<div>\n",
       "<style scoped>\n",
       "    .dataframe tbody tr th:only-of-type {\n",
       "        vertical-align: middle;\n",
       "    }\n",
       "\n",
       "    .dataframe tbody tr th {\n",
       "        vertical-align: top;\n",
       "    }\n",
       "\n",
       "    .dataframe thead th {\n",
       "        text-align: right;\n",
       "    }\n",
       "</style>\n",
       "<table border=\"1\" class=\"dataframe\">\n",
       "  <thead>\n",
       "    <tr style=\"text-align: right;\">\n",
       "      <th></th>\n",
       "      <th>lat</th>\n",
       "      <th>lng</th>\n",
       "      <th>desc</th>\n",
       "      <th>zip</th>\n",
       "      <th>title</th>\n",
       "      <th>timeStamp</th>\n",
       "      <th>twp</th>\n",
       "      <th>addr</th>\n",
       "      <th>e</th>\n",
       "      <th>reason</th>\n",
       "      <th>hour</th>\n",
       "      <th>month</th>\n",
       "      <th>dayofweek</th>\n",
       "      <th>date</th>\n",
       "    </tr>\n",
       "  </thead>\n",
       "  <tbody>\n",
       "    <tr>\n",
       "      <th>0</th>\n",
       "      <td>40.297876</td>\n",
       "      <td>-75.581294</td>\n",
       "      <td>REINDEER CT &amp; DEAD END;  NEW HANOVER; Station ...</td>\n",
       "      <td>19525.0</td>\n",
       "      <td>EMS: BACK PAINS/INJURY</td>\n",
       "      <td>2015-12-10 17:10:52</td>\n",
       "      <td>NEW HANOVER</td>\n",
       "      <td>REINDEER CT &amp; DEAD END</td>\n",
       "      <td>1</td>\n",
       "      <td>EMS</td>\n",
       "      <td>17</td>\n",
       "      <td>12</td>\n",
       "      <td>Thu</td>\n",
       "      <td>2015-12-10</td>\n",
       "    </tr>\n",
       "    <tr>\n",
       "      <th>1</th>\n",
       "      <td>40.258061</td>\n",
       "      <td>-75.264680</td>\n",
       "      <td>BRIAR PATH &amp; WHITEMARSH LN;  HATFIELD TOWNSHIP...</td>\n",
       "      <td>19446.0</td>\n",
       "      <td>EMS: DIABETIC EMERGENCY</td>\n",
       "      <td>2015-12-10 17:29:21</td>\n",
       "      <td>HATFIELD TOWNSHIP</td>\n",
       "      <td>BRIAR PATH &amp; WHITEMARSH LN</td>\n",
       "      <td>1</td>\n",
       "      <td>EMS</td>\n",
       "      <td>17</td>\n",
       "      <td>12</td>\n",
       "      <td>Thu</td>\n",
       "      <td>2015-12-10</td>\n",
       "    </tr>\n",
       "    <tr>\n",
       "      <th>2</th>\n",
       "      <td>40.121182</td>\n",
       "      <td>-75.351975</td>\n",
       "      <td>HAWS AVE; NORRISTOWN; 2015-12-10 @ 14:39:21-St...</td>\n",
       "      <td>19401.0</td>\n",
       "      <td>Fire: GAS-ODOR/LEAK</td>\n",
       "      <td>2015-12-10 14:39:21</td>\n",
       "      <td>NORRISTOWN</td>\n",
       "      <td>HAWS AVE</td>\n",
       "      <td>1</td>\n",
       "      <td>Fire</td>\n",
       "      <td>14</td>\n",
       "      <td>12</td>\n",
       "      <td>Thu</td>\n",
       "      <td>2015-12-10</td>\n",
       "    </tr>\n",
       "    <tr>\n",
       "      <th>3</th>\n",
       "      <td>40.116153</td>\n",
       "      <td>-75.343513</td>\n",
       "      <td>AIRY ST &amp; SWEDE ST;  NORRISTOWN; Station 308A;...</td>\n",
       "      <td>19401.0</td>\n",
       "      <td>EMS: CARDIAC EMERGENCY</td>\n",
       "      <td>2015-12-10 16:47:36</td>\n",
       "      <td>NORRISTOWN</td>\n",
       "      <td>AIRY ST &amp; SWEDE ST</td>\n",
       "      <td>1</td>\n",
       "      <td>EMS</td>\n",
       "      <td>16</td>\n",
       "      <td>12</td>\n",
       "      <td>Thu</td>\n",
       "      <td>2015-12-10</td>\n",
       "    </tr>\n",
       "    <tr>\n",
       "      <th>4</th>\n",
       "      <td>40.251492</td>\n",
       "      <td>-75.603350</td>\n",
       "      <td>CHERRYWOOD CT &amp; DEAD END;  LOWER POTTSGROVE; S...</td>\n",
       "      <td>NaN</td>\n",
       "      <td>EMS: DIZZINESS</td>\n",
       "      <td>2015-12-10 16:56:52</td>\n",
       "      <td>LOWER POTTSGROVE</td>\n",
       "      <td>CHERRYWOOD CT &amp; DEAD END</td>\n",
       "      <td>1</td>\n",
       "      <td>EMS</td>\n",
       "      <td>16</td>\n",
       "      <td>12</td>\n",
       "      <td>Thu</td>\n",
       "      <td>2015-12-10</td>\n",
       "    </tr>\n",
       "  </tbody>\n",
       "</table>\n",
       "</div>"
      ],
      "text/plain": [
       "         lat        lng                                               desc  \\\n",
       "0  40.297876 -75.581294  REINDEER CT & DEAD END;  NEW HANOVER; Station ...   \n",
       "1  40.258061 -75.264680  BRIAR PATH & WHITEMARSH LN;  HATFIELD TOWNSHIP...   \n",
       "2  40.121182 -75.351975  HAWS AVE; NORRISTOWN; 2015-12-10 @ 14:39:21-St...   \n",
       "3  40.116153 -75.343513  AIRY ST & SWEDE ST;  NORRISTOWN; Station 308A;...   \n",
       "4  40.251492 -75.603350  CHERRYWOOD CT & DEAD END;  LOWER POTTSGROVE; S...   \n",
       "\n",
       "       zip                    title           timeStamp                twp  \\\n",
       "0  19525.0   EMS: BACK PAINS/INJURY 2015-12-10 17:10:52        NEW HANOVER   \n",
       "1  19446.0  EMS: DIABETIC EMERGENCY 2015-12-10 17:29:21  HATFIELD TOWNSHIP   \n",
       "2  19401.0      Fire: GAS-ODOR/LEAK 2015-12-10 14:39:21         NORRISTOWN   \n",
       "3  19401.0   EMS: CARDIAC EMERGENCY 2015-12-10 16:47:36         NORRISTOWN   \n",
       "4      NaN           EMS: DIZZINESS 2015-12-10 16:56:52   LOWER POTTSGROVE   \n",
       "\n",
       "                         addr  e reason  hour  month dayofweek        date  \n",
       "0      REINDEER CT & DEAD END  1    EMS    17     12       Thu  2015-12-10  \n",
       "1  BRIAR PATH & WHITEMARSH LN  1    EMS    17     12       Thu  2015-12-10  \n",
       "2                    HAWS AVE  1   Fire    14     12       Thu  2015-12-10  \n",
       "3          AIRY ST & SWEDE ST  1    EMS    16     12       Thu  2015-12-10  \n",
       "4    CHERRYWOOD CT & DEAD END  1    EMS    16     12       Thu  2015-12-10  "
      ]
     },
     "execution_count": 29,
     "metadata": {},
     "output_type": "execute_result"
    }
   ],
   "source": [
    "df.head()"
   ]
  },
  {
   "cell_type": "markdown",
   "id": "0faeab7e",
   "metadata": {
    "papermill": {
     "duration": 0.014659,
     "end_time": "2022-06-27T13:17:39.896696",
     "exception": false,
     "start_time": "2022-06-27T13:17:39.882037",
     "status": "completed"
    },
    "tags": []
   },
   "source": [
    "**Groupby this Date column with the count() aggregate and create a plot of counts of 911 calls.**"
   ]
  },
  {
   "cell_type": "code",
   "execution_count": 30,
   "id": "8949f88d",
   "metadata": {
    "execution": {
     "iopub.execute_input": "2022-06-27T13:17:39.928298Z",
     "iopub.status.busy": "2022-06-27T13:17:39.927639Z",
     "iopub.status.idle": "2022-06-27T13:17:40.425584Z",
     "shell.execute_reply": "2022-06-27T13:17:40.424298Z"
    },
    "papermill": {
     "duration": 0.51616,
     "end_time": "2022-06-27T13:17:40.427821",
     "exception": false,
     "start_time": "2022-06-27T13:17:39.911661",
     "status": "completed"
    },
    "tags": []
   },
   "outputs": [],
   "source": [
    "byDate = df.groupby(\"date\").count()"
   ]
  },
  {
   "cell_type": "code",
   "execution_count": 31,
   "id": "fc90f1a1",
   "metadata": {
    "execution": {
     "iopub.execute_input": "2022-06-27T13:17:40.460098Z",
     "iopub.status.busy": "2022-06-27T13:17:40.458960Z",
     "iopub.status.idle": "2022-06-27T13:17:40.667421Z",
     "shell.execute_reply": "2022-06-27T13:17:40.666690Z"
    },
    "papermill": {
     "duration": 0.226269,
     "end_time": "2022-06-27T13:17:40.669203",
     "exception": false,
     "start_time": "2022-06-27T13:17:40.442934",
     "status": "completed"
    },
    "tags": []
   },
   "outputs": [
    {
     "data": {
      "image/png": "[encoded data removed]",
      "text/plain": [
       "<Figure size 432x288 with 1 Axes>"
      ]
     },
     "metadata": {
      "needs_background": "light"
     },
     "output_type": "display_data"
    }
   ],
   "source": [
    "byDate[\"reason\"].plot()\n",
    "plt.tight_layout()"
   ]
  },
  {
   "cell_type": "markdown",
   "id": "c4730c89",
   "metadata": {
    "papermill": {
     "duration": 0.014988,
     "end_time": "2022-06-27T13:17:40.699586",
     "exception": false,
     "start_time": "2022-06-27T13:17:40.684598",
     "status": "completed"
    },
    "tags": []
   },
   "source": [
    "**Recreate this plot but create 3 separate plots with each plot representing a Reason for the 911 call**"
   ]
  },
  {
   "cell_type": "code",
   "execution_count": 32,
   "id": "3d20923f",
   "metadata": {
    "execution": {
     "iopub.execute_input": "2022-06-27T13:17:40.732993Z",
     "iopub.status.busy": "2022-06-27T13:17:40.732164Z",
     "iopub.status.idle": "2022-06-27T13:17:41.186908Z",
     "shell.execute_reply": "2022-06-27T13:17:41.185770Z"
    },
    "papermill": {
     "duration": 0.47352,
     "end_time": "2022-06-27T13:17:41.189129",
     "exception": false,
     "start_time": "2022-06-27T13:17:40.715609",
     "status": "completed"
    },
    "tags": []
   },
   "outputs": [
    {
     "data": {
      "image/png": "[encoded data removed]",
      "text/plain": [
       "<Figure size 432x288 with 1 Axes>"
      ]
     },
     "metadata": {
      "needs_background": "light"
     },
     "output_type": "display_data"
    }
   ],
   "source": [
    "df[df[\"reason\"]==\"Traffic\"].groupby(\"date\").count()[\"reason\"].plot()\n",
    "plt.title(\"Traffic\")\n",
    "plt.tight_layout()"
   ]
  },
  {
   "cell_type": "code",
   "execution_count": 33,
   "id": "735de032",
   "metadata": {
    "execution": {
     "iopub.execute_input": "2022-06-27T13:17:41.222302Z",
     "iopub.status.busy": "2022-06-27T13:17:41.221927Z",
     "iopub.status.idle": "2022-06-27T13:17:41.580089Z",
     "shell.execute_reply": "2022-06-27T13:17:41.578943Z"
    },
    "papermill": {
     "duration": 0.377853,
     "end_time": "2022-06-27T13:17:41.582582",
     "exception": false,
     "start_time": "2022-06-27T13:17:41.204729",
     "status": "completed"
    },
    "tags": []
   },
   "outputs": [
    {
     "data": {
      "image/png": "[encoded data removed]",
      "text/plain": [
       "<Figure size 432x288 with 1 Axes>"
      ]
     },
     "metadata": {
      "needs_background": "light"
     },
     "output_type": "display_data"
    }
   ],
   "source": [
    "df[df[\"reason\"]==\"Fire\"].groupby(\"date\").count()[\"reason\"].plot()\n",
    "plt.title(\"Fire\")\n",
    "plt.tight_layout()"
   ]
  },
  {
   "cell_type": "code",
   "execution_count": 34,
   "id": "15a509b5",
   "metadata": {
    "execution": {
     "iopub.execute_input": "2022-06-27T13:17:41.617974Z",
     "iopub.status.busy": "2022-06-27T13:17:41.617595Z",
     "iopub.status.idle": "2022-06-27T13:17:42.121149Z",
     "shell.execute_reply": "2022-06-27T13:17:42.120081Z"
    },
    "papermill": {
     "duration": 0.523909,
     "end_time": "2022-06-27T13:17:42.123365",
     "exception": false,
     "start_time": "2022-06-27T13:17:41.599456",
     "status": "completed"
    },
    "tags": []
   },
   "outputs": [
    {
     "data": {
      "image/png": "[encoded data removed]",
      "text/plain": [
       "<Figure size 432x288 with 1 Axes>"
      ]
     },
     "metadata": {
      "needs_background": "light"
     },
     "output_type": "display_data"
    }
   ],
   "source": [
    "df[df[\"reason\"]==\"EMS\"].groupby(\"date\").count()[\"reason\"].plot()\n",
    "plt.title(\"EMS\")\n",
    "plt.tight_layout()"
   ]
  },
  {
   "cell_type": "markdown",
   "id": "34566518",
   "metadata": {
    "papermill": {
     "duration": 0.01632,
     "end_time": "2022-06-27T13:17:42.156462",
     "exception": false,
     "start_time": "2022-06-27T13:17:42.140142",
     "status": "completed"
    },
    "tags": []
   },
   "source": [
    "**Create heatmaps. We'll first need to restructure the dataframe so that the columns become the Hours and the Index becomes the Day of the Week.**"
   ]
  },
  {
   "cell_type": "code",
   "execution_count": 35,
   "id": "115d2eab",
   "metadata": {
    "execution": {
     "iopub.execute_input": "2022-06-27T13:17:42.192233Z",
     "iopub.status.busy": "2022-06-27T13:17:42.191558Z",
     "iopub.status.idle": "2022-06-27T13:17:42.578449Z",
     "shell.execute_reply": "2022-06-27T13:17:42.577422Z"
    },
    "papermill": {
     "duration": 0.407069,
     "end_time": "2022-06-27T13:17:42.580583",
     "exception": false,
     "start_time": "2022-06-27T13:17:42.173514",
     "status": "completed"
    },
    "tags": []
   },
   "outputs": [
    {
     "data": {
      "text/html": [
       "<div>\n",
       "<style scoped>\n",
       "    .dataframe tbody tr th:only-of-type {\n",
       "        vertical-align: middle;\n",
       "    }\n",
       "\n",
       "    .dataframe tbody tr th {\n",
       "        vertical-align: top;\n",
       "    }\n",
       "\n",
       "    .dataframe thead th {\n",
       "        text-align: right;\n",
       "    }\n",
       "</style>\n",
       "<table border=\"1\" class=\"dataframe\">\n",
       "  <thead>\n",
       "    <tr style=\"text-align: right;\">\n",
       "      <th>hour</th>\n",
       "      <th>0</th>\n",
       "      <th>1</th>\n",
       "      <th>2</th>\n",
       "      <th>3</th>\n",
       "      <th>4</th>\n",
       "      <th>5</th>\n",
       "      <th>6</th>\n",
       "      <th>7</th>\n",
       "      <th>8</th>\n",
       "      <th>9</th>\n",
       "      <th>...</th>\n",
       "      <th>14</th>\n",
       "      <th>15</th>\n",
       "      <th>16</th>\n",
       "      <th>17</th>\n",
       "      <th>18</th>\n",
       "      <th>19</th>\n",
       "      <th>20</th>\n",
       "      <th>21</th>\n",
       "      <th>22</th>\n",
       "      <th>23</th>\n",
       "    </tr>\n",
       "    <tr>\n",
       "      <th>dayofweek</th>\n",
       "      <th></th>\n",
       "      <th></th>\n",
       "      <th></th>\n",
       "      <th></th>\n",
       "      <th></th>\n",
       "      <th></th>\n",
       "      <th></th>\n",
       "      <th></th>\n",
       "      <th></th>\n",
       "      <th></th>\n",
       "      <th></th>\n",
       "      <th></th>\n",
       "      <th></th>\n",
       "      <th></th>\n",
       "      <th></th>\n",
       "      <th></th>\n",
       "      <th></th>\n",
       "      <th></th>\n",
       "      <th></th>\n",
       "      <th></th>\n",
       "      <th></th>\n",
       "    </tr>\n",
       "  </thead>\n",
       "  <tbody>\n",
       "    <tr>\n",
       "      <th>Fri</th>\n",
       "      <td>1983</td>\n",
       "      <td>1635</td>\n",
       "      <td>1449</td>\n",
       "      <td>1296</td>\n",
       "      <td>1339</td>\n",
       "      <td>1639</td>\n",
       "      <td>2670</td>\n",
       "      <td>4143</td>\n",
       "      <td>5018</td>\n",
       "      <td>5288</td>\n",
       "      <td>...</td>\n",
       "      <td>6394</td>\n",
       "      <td>7040</td>\n",
       "      <td>7065</td>\n",
       "      <td>7113</td>\n",
       "      <td>5668</td>\n",
       "      <td>5056</td>\n",
       "      <td>4375</td>\n",
       "      <td>3913</td>\n",
       "      <td>3422</td>\n",
       "      <td>2834</td>\n",
       "    </tr>\n",
       "    <tr>\n",
       "      <th>Mon</th>\n",
       "      <td>1894</td>\n",
       "      <td>1571</td>\n",
       "      <td>1368</td>\n",
       "      <td>1272</td>\n",
       "      <td>1336</td>\n",
       "      <td>1844</td>\n",
       "      <td>2675</td>\n",
       "      <td>4430</td>\n",
       "      <td>5504</td>\n",
       "      <td>5724</td>\n",
       "      <td>...</td>\n",
       "      <td>5713</td>\n",
       "      <td>6289</td>\n",
       "      <td>6346</td>\n",
       "      <td>6408</td>\n",
       "      <td>5441</td>\n",
       "      <td>4488</td>\n",
       "      <td>3823</td>\n",
       "      <td>3254</td>\n",
       "      <td>2658</td>\n",
       "      <td>2072</td>\n",
       "    </tr>\n",
       "    <tr>\n",
       "      <th>Sat</th>\n",
       "      <td>2447</td>\n",
       "      <td>2059</td>\n",
       "      <td>1883</td>\n",
       "      <td>1592</td>\n",
       "      <td>1451</td>\n",
       "      <td>1580</td>\n",
       "      <td>1880</td>\n",
       "      <td>2489</td>\n",
       "      <td>3457</td>\n",
       "      <td>4315</td>\n",
       "      <td>...</td>\n",
       "      <td>5421</td>\n",
       "      <td>5181</td>\n",
       "      <td>5211</td>\n",
       "      <td>5213</td>\n",
       "      <td>4980</td>\n",
       "      <td>4753</td>\n",
       "      <td>4127</td>\n",
       "      <td>3895</td>\n",
       "      <td>3226</td>\n",
       "      <td>2965</td>\n",
       "    </tr>\n",
       "    <tr>\n",
       "      <th>Sun</th>\n",
       "      <td>2424</td>\n",
       "      <td>2135</td>\n",
       "      <td>1946</td>\n",
       "      <td>1614</td>\n",
       "      <td>1471</td>\n",
       "      <td>1488</td>\n",
       "      <td>1726</td>\n",
       "      <td>2408</td>\n",
       "      <td>3001</td>\n",
       "      <td>3728</td>\n",
       "      <td>...</td>\n",
       "      <td>4744</td>\n",
       "      <td>4475</td>\n",
       "      <td>4560</td>\n",
       "      <td>4505</td>\n",
       "      <td>4402</td>\n",
       "      <td>4135</td>\n",
       "      <td>3748</td>\n",
       "      <td>3161</td>\n",
       "      <td>2629</td>\n",
       "      <td>2323</td>\n",
       "    </tr>\n",
       "    <tr>\n",
       "      <th>Thu</th>\n",
       "      <td>1731</td>\n",
       "      <td>1408</td>\n",
       "      <td>1426</td>\n",
       "      <td>1236</td>\n",
       "      <td>1293</td>\n",
       "      <td>1775</td>\n",
       "      <td>2816</td>\n",
       "      <td>4432</td>\n",
       "      <td>5297</td>\n",
       "      <td>5412</td>\n",
       "      <td>...</td>\n",
       "      <td>6079</td>\n",
       "      <td>6493</td>\n",
       "      <td>6375</td>\n",
       "      <td>6935</td>\n",
       "      <td>5512</td>\n",
       "      <td>4703</td>\n",
       "      <td>4045</td>\n",
       "      <td>3490</td>\n",
       "      <td>2844</td>\n",
       "      <td>2354</td>\n",
       "    </tr>\n",
       "    <tr>\n",
       "      <th>Tue</th>\n",
       "      <td>1720</td>\n",
       "      <td>1459</td>\n",
       "      <td>1322</td>\n",
       "      <td>1213</td>\n",
       "      <td>1247</td>\n",
       "      <td>1741</td>\n",
       "      <td>2784</td>\n",
       "      <td>4425</td>\n",
       "      <td>5634</td>\n",
       "      <td>5566</td>\n",
       "      <td>...</td>\n",
       "      <td>5926</td>\n",
       "      <td>6252</td>\n",
       "      <td>6495</td>\n",
       "      <td>6883</td>\n",
       "      <td>5628</td>\n",
       "      <td>4621</td>\n",
       "      <td>3845</td>\n",
       "      <td>3409</td>\n",
       "      <td>2708</td>\n",
       "      <td>2137</td>\n",
       "    </tr>\n",
       "    <tr>\n",
       "      <th>Wed</th>\n",
       "      <td>1664</td>\n",
       "      <td>1484</td>\n",
       "      <td>1259</td>\n",
       "      <td>1265</td>\n",
       "      <td>1128</td>\n",
       "      <td>1609</td>\n",
       "      <td>2668</td>\n",
       "      <td>4644</td>\n",
       "      <td>5469</td>\n",
       "      <td>5444</td>\n",
       "      <td>...</td>\n",
       "      <td>6069</td>\n",
       "      <td>6533</td>\n",
       "      <td>6745</td>\n",
       "      <td>7062</td>\n",
       "      <td>5691</td>\n",
       "      <td>4686</td>\n",
       "      <td>4116</td>\n",
       "      <td>3537</td>\n",
       "      <td>2826</td>\n",
       "      <td>2207</td>\n",
       "    </tr>\n",
       "  </tbody>\n",
       "</table>\n",
       "<p>7 rows × 24 columns</p>\n",
       "</div>"
      ],
      "text/plain": [
       "hour         0     1     2     3     4     5     6     7     8     9   ...  \\\n",
       "dayofweek                                                              ...   \n",
       "Fri        1983  1635  1449  1296  1339  1639  2670  4143  5018  5288  ...   \n",
       "Mon        1894  1571  1368  1272  1336  1844  2675  4430  5504  5724  ...   \n",
       "Sat        2447  2059  1883  1592  1451  1580  1880  2489  3457  4315  ...   \n",
       "Sun        2424  2135  1946  1614  1471  1488  1726  2408  3001  3728  ...   \n",
       "Thu        1731  1408  1426  1236  1293  1775  2816  4432  5297  5412  ...   \n",
       "Tue        1720  1459  1322  1213  1247  1741  2784  4425  5634  5566  ...   \n",
       "Wed        1664  1484  1259  1265  1128  1609  2668  4644  5469  5444  ...   \n",
       "\n",
       "hour         14    15    16    17    18    19    20    21    22    23  \n",
       "dayofweek                                                              \n",
       "Fri        6394  7040  7065  7113  5668  5056  4375  3913  3422  2834  \n",
       "Mon        5713  6289  6346  6408  5441  4488  3823  3254  2658  2072  \n",
       "Sat        5421  5181  5211  5213  4980  4753  4127  3895  3226  2965  \n",
       "Sun        4744  4475  4560  4505  4402  4135  3748  3161  2629  2323  \n",
       "Thu        6079  6493  6375  6935  5512  4703  4045  3490  2844  2354  \n",
       "Tue        5926  6252  6495  6883  5628  4621  3845  3409  2708  2137  \n",
       "Wed        6069  6533  6745  7062  5691  4686  4116  3537  2826  2207  \n",
       "\n",
       "[7 rows x 24 columns]"
      ]
     },
     "execution_count": 35,
     "metadata": {},
     "output_type": "execute_result"
    }
   ],
   "source": [
    "df.groupby(by=[\"dayofweek\", \"hour\"]).count()[\"reason\"].unstack()"
   ]
  },
  {
   "cell_type": "markdown",
   "id": "807934c4",
   "metadata": {
    "papermill": {
     "duration": 0.016085,
     "end_time": "2022-06-27T13:17:42.613344",
     "exception": false,
     "start_time": "2022-06-27T13:17:42.597259",
     "status": "completed"
    },
    "tags": []
   },
   "source": [
    "**Create a HeatMap using this new DataFrame.**"
   ]
  },
  {
   "cell_type": "code",
   "execution_count": 36,
   "id": "d5642185",
   "metadata": {
    "execution": {
     "iopub.execute_input": "2022-06-27T13:17:42.648464Z",
     "iopub.status.busy": "2022-06-27T13:17:42.648129Z",
     "iopub.status.idle": "2022-06-27T13:17:42.995107Z",
     "shell.execute_reply": "2022-06-27T13:17:42.994151Z"
    },
    "papermill": {
     "duration": 0.367073,
     "end_time": "2022-06-27T13:17:42.997595",
     "exception": false,
     "start_time": "2022-06-27T13:17:42.630522",
     "status": "completed"
    },
    "tags": []
   },
   "outputs": [],
   "source": [
    "dayHour = df.groupby(by=[\"dayofweek\", \"hour\"]).count()[\"reason\"].unstack()"
   ]
  },
  {
   "cell_type": "code",
   "execution_count": 37,
   "id": "645b0312",
   "metadata": {
    "execution": {
     "iopub.execute_input": "2022-06-27T13:17:43.033908Z",
     "iopub.status.busy": "2022-06-27T13:17:43.032903Z",
     "iopub.status.idle": "2022-06-27T13:17:43.346929Z",
     "shell.execute_reply": "2022-06-27T13:17:43.345888Z"
    },
    "papermill": {
     "duration": 0.334694,
     "end_time": "2022-06-27T13:17:43.348922",
     "exception": false,
     "start_time": "2022-06-27T13:17:43.014228",
     "status": "completed"
    },
    "tags": []
   },
   "outputs": [
    {
     "data": {
      "text/plain": [
       "<AxesSubplot:xlabel='hour', ylabel='dayofweek'>"
      ]
     },
     "execution_count": 37,
     "metadata": {},
     "output_type": "execute_result"
    },
    {
     "data": {
      "image/png": "[encoded data removed]",
      "text/plain": [
       "<Figure size 864x432 with 2 Axes>"
      ]
     },
     "metadata": {
      "needs_background": "light"
     },
     "output_type": "display_data"
    }
   ],
   "source": [
    "plt.figure(figsize=(12,6))\n",
    "sns.heatmap(dayHour, cmap=\"coolwarm\")"
   ]
  },
  {
   "cell_type": "markdown",
   "id": "a15bda1d",
   "metadata": {
    "papermill": {
     "duration": 0.016464,
     "end_time": "2022-06-27T13:17:43.382272",
     "exception": false,
     "start_time": "2022-06-27T13:17:43.365808",
     "status": "completed"
    },
    "tags": []
   },
   "source": [
    "**Create a clustermap using this DataFrame.**"
   ]
  },
  {
   "cell_type": "code",
   "execution_count": 38,
   "id": "2f8c63a1",
   "metadata": {
    "execution": {
     "iopub.execute_input": "2022-06-27T13:17:43.417852Z",
     "iopub.status.busy": "2022-06-27T13:17:43.417206Z",
     "iopub.status.idle": "2022-06-27T13:17:43.916489Z",
     "shell.execute_reply": "2022-06-27T13:17:43.915700Z"
    },
    "papermill": {
     "duration": 0.519309,
     "end_time": "2022-06-27T13:17:43.918314",
     "exception": false,
     "start_time": "2022-06-27T13:17:43.399005",
     "status": "completed"
    },
    "tags": []
   },
   "outputs": [
    {
     "data": {
      "text/plain": [
       "<seaborn.matrix.ClusterGrid at 0x7f6e77a584d0>"
      ]
     },
     "execution_count": 38,
     "metadata": {},
     "output_type": "execute_result"
    },
    {
     "data": {
      "text/plain": [
       "<Figure size 864x432 with 0 Axes>"
      ]
     },
     "metadata": {},
     "output_type": "display_data"
    },
    {
     "data": {
      "image/png": "[encoded data removed]",
      "text/plain": [
       "<Figure size 720x720 with 4 Axes>"
      ]
     },
     "metadata": {
      "needs_background": "light"
     },
     "output_type": "display_data"
    }
   ],
   "source": [
    "plt.figure(figsize=(12,6))\n",
    "sns.clustermap(dayHour, cmap=\"coolwarm\")"
   ]
  },
  {
   "cell_type": "markdown",
   "id": "2b233055",
   "metadata": {
    "papermill": {
     "duration": 0.016968,
     "end_time": "2022-06-27T13:17:43.952753",
     "exception": false,
     "start_time": "2022-06-27T13:17:43.935785",
     "status": "completed"
    },
    "tags": []
   },
   "source": [
    "**Now a DataFrame that shows the Month as the column.**"
   ]
  },
  {
   "cell_type": "code",
   "execution_count": 39,
   "id": "8bc016f4",
   "metadata": {
    "execution": {
     "iopub.execute_input": "2022-06-27T13:17:43.989192Z",
     "iopub.status.busy": "2022-06-27T13:17:43.988445Z",
     "iopub.status.idle": "2022-06-27T13:17:44.346710Z",
     "shell.execute_reply": "2022-06-27T13:17:44.345621Z"
    },
    "papermill": {
     "duration": 0.378792,
     "end_time": "2022-06-27T13:17:44.348793",
     "exception": false,
     "start_time": "2022-06-27T13:17:43.970001",
     "status": "completed"
    },
    "tags": []
   },
   "outputs": [
    {
     "data": {
      "text/html": [
       "<div>\n",
       "<style scoped>\n",
       "    .dataframe tbody tr th:only-of-type {\n",
       "        vertical-align: middle;\n",
       "    }\n",
       "\n",
       "    .dataframe tbody tr th {\n",
       "        vertical-align: top;\n",
       "    }\n",
       "\n",
       "    .dataframe thead th {\n",
       "        text-align: right;\n",
       "    }\n",
       "</style>\n",
       "<table border=\"1\" class=\"dataframe\">\n",
       "  <thead>\n",
       "    <tr style=\"text-align: right;\">\n",
       "      <th>month</th>\n",
       "      <th>1</th>\n",
       "      <th>2</th>\n",
       "      <th>3</th>\n",
       "      <th>4</th>\n",
       "      <th>5</th>\n",
       "      <th>6</th>\n",
       "      <th>7</th>\n",
       "      <th>8</th>\n",
       "      <th>9</th>\n",
       "      <th>10</th>\n",
       "      <th>11</th>\n",
       "      <th>12</th>\n",
       "    </tr>\n",
       "    <tr>\n",
       "      <th>dayofweek</th>\n",
       "      <th></th>\n",
       "      <th></th>\n",
       "      <th></th>\n",
       "      <th></th>\n",
       "      <th></th>\n",
       "      <th></th>\n",
       "      <th></th>\n",
       "      <th></th>\n",
       "      <th></th>\n",
       "      <th></th>\n",
       "      <th></th>\n",
       "      <th></th>\n",
       "    </tr>\n",
       "  </thead>\n",
       "  <tbody>\n",
       "    <tr>\n",
       "      <th>Fri</th>\n",
       "      <td>9309</td>\n",
       "      <td>8255</td>\n",
       "      <td>10941</td>\n",
       "      <td>7997</td>\n",
       "      <td>8904</td>\n",
       "      <td>9207</td>\n",
       "      <td>8681</td>\n",
       "      <td>7336</td>\n",
       "      <td>7694</td>\n",
       "      <td>6934</td>\n",
       "      <td>8379</td>\n",
       "      <td>9305</td>\n",
       "    </tr>\n",
       "    <tr>\n",
       "      <th>Mon</th>\n",
       "      <td>8896</td>\n",
       "      <td>8747</td>\n",
       "      <td>8060</td>\n",
       "      <td>8410</td>\n",
       "      <td>7881</td>\n",
       "      <td>8511</td>\n",
       "      <td>9499</td>\n",
       "      <td>6854</td>\n",
       "      <td>6598</td>\n",
       "      <td>8075</td>\n",
       "      <td>6722</td>\n",
       "      <td>8492</td>\n",
       "    </tr>\n",
       "    <tr>\n",
       "      <th>Sat</th>\n",
       "      <td>8475</td>\n",
       "      <td>7593</td>\n",
       "      <td>8050</td>\n",
       "      <td>7514</td>\n",
       "      <td>7223</td>\n",
       "      <td>8198</td>\n",
       "      <td>7748</td>\n",
       "      <td>6111</td>\n",
       "      <td>6566</td>\n",
       "      <td>6609</td>\n",
       "      <td>6773</td>\n",
       "      <td>8592</td>\n",
       "    </tr>\n",
       "    <tr>\n",
       "      <th>Sun</th>\n",
       "      <td>7478</td>\n",
       "      <td>6452</td>\n",
       "      <td>6766</td>\n",
       "      <td>6865</td>\n",
       "      <td>6694</td>\n",
       "      <td>6837</td>\n",
       "      <td>7859</td>\n",
       "      <td>5275</td>\n",
       "      <td>5956</td>\n",
       "      <td>6316</td>\n",
       "      <td>5196</td>\n",
       "      <td>7165</td>\n",
       "    </tr>\n",
       "    <tr>\n",
       "      <th>Thu</th>\n",
       "      <td>9055</td>\n",
       "      <td>7997</td>\n",
       "      <td>8849</td>\n",
       "      <td>7722</td>\n",
       "      <td>8740</td>\n",
       "      <td>9489</td>\n",
       "      <td>8378</td>\n",
       "      <td>7508</td>\n",
       "      <td>6954</td>\n",
       "      <td>7482</td>\n",
       "      <td>8358</td>\n",
       "      <td>8151</td>\n",
       "    </tr>\n",
       "    <tr>\n",
       "      <th>Tue</th>\n",
       "      <td>9714</td>\n",
       "      <td>8087</td>\n",
       "      <td>8372</td>\n",
       "      <td>7561</td>\n",
       "      <td>9026</td>\n",
       "      <td>8349</td>\n",
       "      <td>9086</td>\n",
       "      <td>7291</td>\n",
       "      <td>6601</td>\n",
       "      <td>7948</td>\n",
       "      <td>7344</td>\n",
       "      <td>8305</td>\n",
       "    </tr>\n",
       "    <tr>\n",
       "      <th>Wed</th>\n",
       "      <td>9409</td>\n",
       "      <td>8296</td>\n",
       "      <td>8989</td>\n",
       "      <td>7602</td>\n",
       "      <td>9041</td>\n",
       "      <td>9443</td>\n",
       "      <td>8581</td>\n",
       "      <td>7984</td>\n",
       "      <td>6844</td>\n",
       "      <td>7876</td>\n",
       "      <td>7410</td>\n",
       "      <td>7682</td>\n",
       "    </tr>\n",
       "  </tbody>\n",
       "</table>\n",
       "</div>"
      ],
      "text/plain": [
       "month        1     2      3     4     5     6     7     8     9     10    11  \\\n",
       "dayofweek                                                                      \n",
       "Fri        9309  8255  10941  7997  8904  9207  8681  7336  7694  6934  8379   \n",
       "Mon        8896  8747   8060  8410  7881  8511  9499  6854  6598  8075  6722   \n",
       "Sat        8475  7593   8050  7514  7223  8198  7748  6111  6566  6609  6773   \n",
       "Sun        7478  6452   6766  6865  6694  6837  7859  5275  5956  6316  5196   \n",
       "Thu        9055  7997   8849  7722  8740  9489  8378  7508  6954  7482  8358   \n",
       "Tue        9714  8087   8372  7561  9026  8349  9086  7291  6601  7948  7344   \n",
       "Wed        9409  8296   8989  7602  9041  9443  8581  7984  6844  7876  7410   \n",
       "\n",
       "month        12  \n",
       "dayofweek        \n",
       "Fri        9305  \n",
       "Mon        8492  \n",
       "Sat        8592  \n",
       "Sun        7165  \n",
       "Thu        8151  \n",
       "Tue        8305  \n",
       "Wed        7682  "
      ]
     },
     "execution_count": 39,
     "metadata": {},
     "output_type": "execute_result"
    }
   ],
   "source": [
    "df.groupby(by=[\"dayofweek\", \"month\"]).count()[\"reason\"].unstack()"
   ]
  },
  {
   "cell_type": "code",
   "execution_count": 40,
   "id": "41985959",
   "metadata": {
    "execution": {
     "iopub.execute_input": "2022-06-27T13:17:44.386917Z",
     "iopub.status.busy": "2022-06-27T13:17:44.386070Z",
     "iopub.status.idle": "2022-06-27T13:17:44.732998Z",
     "shell.execute_reply": "2022-06-27T13:17:44.731861Z"
    },
    "papermill": {
     "duration": 0.369005,
     "end_time": "2022-06-27T13:17:44.735637",
     "exception": false,
     "start_time": "2022-06-27T13:17:44.366632",
     "status": "completed"
    },
    "tags": []
   },
   "outputs": [],
   "source": [
    "dayMonth = df.groupby(by=[\"dayofweek\", \"month\"]).count()[\"reason\"].unstack()"
   ]
  },
  {
   "cell_type": "code",
   "execution_count": 41,
   "id": "2862a16c",
   "metadata": {
    "execution": {
     "iopub.execute_input": "2022-06-27T13:17:44.773237Z",
     "iopub.status.busy": "2022-06-27T13:17:44.772866Z",
     "iopub.status.idle": "2022-06-27T13:17:45.034814Z",
     "shell.execute_reply": "2022-06-27T13:17:45.033674Z"
    },
    "papermill": {
     "duration": 0.283648,
     "end_time": "2022-06-27T13:17:45.037227",
     "exception": false,
     "start_time": "2022-06-27T13:17:44.753579",
     "status": "completed"
    },
    "tags": []
   },
   "outputs": [
    {
     "data": {
      "text/plain": [
       "<AxesSubplot:xlabel='month', ylabel='dayofweek'>"
      ]
     },
     "execution_count": 41,
     "metadata": {},
     "output_type": "execute_result"
    },
    {
     "data": {
      "image/png": "[encoded data removed]",
      "text/plain": [
       "<Figure size 864x432 with 2 Axes>"
      ]
     },
     "metadata": {
      "needs_background": "light"
     },
     "output_type": "display_data"
    }
   ],
   "source": [
    "plt.figure(figsize=(12,6))\n",
    "sns.heatmap(dayMonth, cmap=\"coolwarm\")"
   ]
  },
  {
   "cell_type": "code",
   "execution_count": 42,
   "id": "ff307249",
   "metadata": {
    "execution": {
     "iopub.execute_input": "2022-06-27T13:17:45.079319Z",
     "iopub.status.busy": "2022-06-27T13:17:45.078357Z",
     "iopub.status.idle": "2022-06-27T13:17:45.513115Z",
     "shell.execute_reply": "2022-06-27T13:17:45.512012Z"
    },
    "papermill": {
     "duration": 0.459329,
     "end_time": "2022-06-27T13:17:45.515463",
     "exception": false,
     "start_time": "2022-06-27T13:17:45.056134",
     "status": "completed"
    },
    "tags": []
   },
   "outputs": [
    {
     "data": {
      "text/plain": [
       "<seaborn.matrix.ClusterGrid at 0x7f6e774958d0>"
      ]
     },
     "execution_count": 42,
     "metadata": {},
     "output_type": "execute_result"
    },
    {
     "data": {
      "text/plain": [
       "<Figure size 864x432 with 0 Axes>"
      ]
     },
     "metadata": {},
     "output_type": "display_data"
    },
    {
     "data": {
      "image/png": "[encoded data removed]",
      "text/plain": [
       "<Figure size 720x720 with 4 Axes>"
      ]
     },
     "metadata": {
      "needs_background": "light"
     },
     "output_type": "display_data"
    }
   ],
   "source": [
    "plt.figure(figsize=(12,6))\n",
    "sns.clustermap(dayMonth, cmap=\"coolwarm\")"
   ]
  },
  {
   "cell_type": "markdown",
   "id": "bf0658c4",
   "metadata": {
    "papermill": {
     "duration": 0.017826,
     "end_time": "2022-06-27T13:17:45.551827",
     "exception": false,
     "start_time": "2022-06-27T13:17:45.534001",
     "status": "completed"
    },
    "tags": []
   },
   "source": [
    "**Conclusion**\n",
    "* Most of the calls occur on Wednesdays, Thursdays and Fridays, between 15-17 hours (3-5pm)\n",
    "* Fridays in March were the busiest days in 911 call center\n",
    "* The main reason for 911 calls was \"EMS\" followed by \"Traffic\" and then \"Fire\""
   ]
  }
 ],
 "metadata": {
  "kernelspec": {
   "display_name": "Python 3",
   "language": "python",
   "name": "python3"
  },
  "language_info": {
   "codemirror_mode": {
    "name": "ipython",
    "version": 3
   },
   "file_extension": ".py",
   "mimetype": "text/x-python",
   "name": "python",
   "nbconvert_exporter": "python",
   "pygments_lexer": "ipython3",
   "version": "3.7.12"
  },
  "papermill": {
   "default_parameters": {},
   "duration": 35.207002,
   "end_time": "2022-06-27T13:17:46.390801",
   "environment_variables": {},
   "exception": null,
   "input_path": "__notebook__.ipynb",
   "output_path": "__notebook__.ipynb",
   "parameters": {},
   "start_time": "2022-06-27T13:17:11.183799",
   "version": "2.3.4"
  }
 },
 "nbformat": 4,
 "nbformat_minor": 5
}
